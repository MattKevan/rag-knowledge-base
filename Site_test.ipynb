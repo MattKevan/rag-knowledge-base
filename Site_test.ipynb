{
 "cells": [
  {
   "cell_type": "code",
   "execution_count": null,
   "id": "bb7f8472-ec1a-4c3b-b7f7-d638d69c9af7",
   "metadata": {},
   "outputs": [],
   "source": [
    "!pip install llama-index\n",
    "!pip install python-dotenv\n",
    "!pip install llama-index transformers torch accelerate\n",
    "!pip install llama-index-llms-huggingface\n",
    "!pip install chromadb\n",
    "!pip install python-dotenv"
   ]
  },
  {
   "cell_type": "code",
   "execution_count": 97,
   "id": "8ed69dd1-0d94-4a70-804a-675ec0ad540d",
   "metadata": {},
   "outputs": [],
   "source": [
    "import os\n",
    "from dotenv import load_dotenv\n",
    "load_dotenv()\n",
    "monday_api_token = os.getenv('MONDAY_API_KEY')"
   ]
  },
  {
   "cell_type": "markdown",
   "id": "1aba5a3a-5dfa-4c8e-a3b7-8855418abcb4",
   "metadata": {},
   "source": [
    "## Set up local embedding LLM"
   ]
  },
  {
   "cell_type": "code",
   "execution_count": null,
   "id": "96024dbd-7fcd-4e6a-9ca1-8d4a01a65385",
   "metadata": {},
   "outputs": [],
   "source": [
    "%pip install llama-index-embeddings-huggingface\n",
    "%pip install llama-index-embeddings-instructor\n",
    "%pip install sentence-transformers"
   ]
  },
  {
   "cell_type": "code",
   "execution_count": 101,
   "id": "11891f1c-140d-47dd-b646-39168ddac108",
   "metadata": {},
   "outputs": [],
   "source": [
    "from llama_index.embeddings.huggingface import HuggingFaceEmbedding\n",
    "\n",
    "embed_model = HuggingFaceEmbedding(model_name=\"BAAI/bge-small-en-v1.5\")"
   ]
  },
  {
   "cell_type": "markdown",
   "id": "a35da07b-f158-4840-8861-10abd3d165f0",
   "metadata": {},
   "source": [
    "## Web reader"
   ]
  },
  {
   "cell_type": "code",
   "execution_count": null,
   "id": "0be2230a-c5a8-41cd-8714-bbf60af1452c",
   "metadata": {},
   "outputs": [],
   "source": [
    "!pip install llama-index-readers-web"
   ]
  },
  {
   "cell_type": "code",
   "execution_count": null,
   "id": "8a6ce13b-6372-4ecf-945d-ee9137e88fc5",
   "metadata": {},
   "outputs": [],
   "source": [
    "from llama_index.readers.web import WholeSiteReader\n",
    "\n",
    "# Initialize the scraper with a prefix URL and maximum depth\n",
    "scraper = WholeSiteReader(\n",
    "    prefix=\"https://www.highspeedtraining.co.uk\", max_depth=10\n",
    ")\n",
    "\n",
    "# Start scraping from a base URL\n",
    "documents = scraper.load_data(\n",
    "    base_url=\"https://www.highspeedtraining.co.uk/hub/\"\n",
    ")  # Example base URL"
   ]
  },
  {
   "cell_type": "markdown",
   "id": "88a2c865-763f-4157-b59b-7e469d92356a",
   "metadata": {},
   "source": [
    "## Monday reader"
   ]
  },
  {
   "cell_type": "code",
   "execution_count": 94,
   "id": "05e628a8-a2f3-46d7-ba94-ea85e174e02e",
   "metadata": {},
   "outputs": [],
   "source": [
    "# Custom Monday API reader\n",
    "\n",
    "from typing import Dict, List\n",
    "import requests\n",
    "import json\n",
    "from llama_index.core.readers.base import BaseReader\n",
    "from llama_index.core.schema import Document\n",
    "\n",
    "class MondayReader(BaseReader):\n",
    "    \"\"\"monday.com reader. Reads board's data by a GraphQL query.\"\"\"\n",
    "    def __init__(self, api_key: str) -> None:\n",
    "        \"\"\"Initialize monday.com reader.\"\"\"\n",
    "        self.api_key = api_key\n",
    "        self.api_url = \"https://api.monday.com/v2\"\n",
    "\n",
    "    def _parse_item_values(self, cv) -> Dict[str, str]:\n",
    "        return {\"title\": cv.get(\"column\", {}).get(\"title\", \"\"), \"value\": cv.get(\"text\", \"\")}\n",
    "\n",
    "    def _parse_assets(self, assets) -> List[Dict[str, str]]:\n",
    "        return [{\"name\": asset.get(\"name\", \"\"), \"url\": asset.get(\"url\", \"\")} for asset in assets]\n",
    "\n",
    "    def _parse_updates(self, updates) -> List[Dict[str, str]]:\n",
    "        return [{\"body\": update.get(\"body\", \"\"), \"created_at\": update.get(\"created_at\", \"\")} for update in updates]\n",
    "\n",
    "    def _parse_data(self, item) -> Dict[str, any]:\n",
    "        return {\n",
    "            \"id\": item[\"id\"],\n",
    "            \"name\": item[\"name\"],\n",
    "            \"values\": [self._parse_item_values(cv) for cv in item[\"column_values\"]],\n",
    "            \"assets\": self._parse_assets(item.get(\"assets\", [])),\n",
    "            \"updates\": self._parse_updates(item.get(\"updates\", [])),\n",
    "            \"subitems\": [self._parse_data(subitem) for subitem in item.get(\"subitems\", [])]\n",
    "        }\n",
    "\n",
    "    def _perform_request(self, board_id: int, cursor: str = None) -> Dict[str, any]:\n",
    "        headers = {\"Authorization\": self.api_key}\n",
    "        query = \"\"\"\n",
    "            query($boardId: ID!, $cursor: String) {\n",
    "                boards(ids: [$boardId]) {\n",
    "                    name,\n",
    "                    items_page(limit: 100, cursor: $cursor) {\n",
    "                        cursor\n",
    "                        items {\n",
    "                            id,\n",
    "                            name,\n",
    "                            column_values {\n",
    "                                column { title }\n",
    "                                text\n",
    "                            }\n",
    "                            assets {\n",
    "                                name\n",
    "                                url\n",
    "                            }\n",
    "                            updates {\n",
    "                                body\n",
    "                                created_at\n",
    "                            }\n",
    "                            subitems {\n",
    "                                id,\n",
    "                                name,\n",
    "                                column_values {\n",
    "                                    column { title }\n",
    "                                    text\n",
    "                                }\n",
    "                                assets {\n",
    "                                    name\n",
    "                                    url\n",
    "                                }\n",
    "                                updates {\n",
    "                                    body\n",
    "                                    created_at\n",
    "                                }\n",
    "                            }\n",
    "                        }\n",
    "                    }\n",
    "                }\n",
    "            }\n",
    "        \"\"\"\n",
    "        variables = {\"boardId\": board_id, \"cursor\": cursor}\n",
    "        data = {\"query\": query, \"variables\": variables}\n",
    "        response = requests.post(url=self.api_url, json=data, headers=headers)\n",
    "        return response.json()\n",
    "\n",
    "    def _subitem_to_dict(self, subitem):\n",
    "        return {\n",
    "            \"id\": subitem[\"id\"],\n",
    "            \"name\": subitem[\"name\"],\n",
    "            \"values\": [{\"title\": v[\"title\"], \"value\": v[\"value\"]} for v in subitem[\"values\"]],\n",
    "            \"assets\": [{\"name\": a[\"name\"], \"url\": a[\"url\"]} for a in subitem[\"assets\"]],\n",
    "            \"updates\": [{\"body\": u[\"body\"], \"created_at\": u[\"created_at\"]} for u in subitem[\"updates\"]]\n",
    "        }\n",
    "\n",
    "    def load_data(self, board_id: int) -> List[Document]:\n",
    "        \"\"\"Load board data by board_id.\"\"\"\n",
    "        all_items = []\n",
    "        cursor = None\n",
    "        while True:\n",
    "            json_response = self._perform_request(board_id, cursor)\n",
    "            \n",
    "            if \"errors\" in json_response:\n",
    "                raise Exception(f\"API Error: {json_response['errors']}\")\n",
    "            \n",
    "            if \"data\" not in json_response or \"boards\" not in json_response[\"data\"]:\n",
    "                raise Exception(\"Unexpected API response structure\")\n",
    "            board_data = json_response[\"data\"][\"boards\"][0]\n",
    "            items_page = board_data[\"items_page\"]\n",
    "            \n",
    "            all_items.extend(items_page[\"items\"])\n",
    "            \n",
    "            if not items_page[\"cursor\"]:\n",
    "                break\n",
    "            \n",
    "            cursor = items_page[\"cursor\"]\n",
    "        parsed_items = [self._parse_data(item) for item in all_items]\n",
    "        \n",
    "        result = []\n",
    "        for item in parsed_items:\n",
    "            text = f\"name: {item['name']}\"\n",
    "            for item_value in item[\"values\"]:\n",
    "                if item_value[\"value\"]:\n",
    "                    text += f\", {item_value['title']}: {item_value['value']}\"\n",
    "            \n",
    "            if item[\"assets\"]:\n",
    "                text += \"\\nAssets:\"\n",
    "                for asset in item[\"assets\"]:\n",
    "                    text += f\"\\n- {asset['name']}: {asset['url']}\"\n",
    "            \n",
    "            if item[\"updates\"]:\n",
    "                text += \"\\nUpdates:\"\n",
    "                for update in item[\"updates\"]:\n",
    "                    text += f\"\\n- {update['created_at']}: {update['body']}\"\n",
    "            \n",
    "            if item[\"subitems\"]:\n",
    "                text += \"\\nSubitems:\"\n",
    "                for subitem in item[\"subitems\"]:\n",
    "                    text += f\"\\n- {subitem['name']}\"\n",
    "                    for subitem_value in subitem[\"values\"]:\n",
    "                        if subitem_value[\"value\"]:\n",
    "                            text += f\", {subitem_value['title']}: {subitem_value['value']}\"\n",
    "\n",
    "            result.append(\n",
    "                Document(\n",
    "                    text=text,\n",
    "                    extra_info={\n",
    "                        \"board_id\": board_id,\n",
    "                        \"item_id\": item[\"id\"],\n",
    "                        \"subitems_count\": len(item[\"subitems\"]),\n",
    "                        \"subitems_json\": json.dumps([self._subitem_to_dict(subitem) for subitem in item[\"subitems\"]])\n",
    "                    }\n",
    "                )\n",
    "            )\n",
    "        \n",
    "        return result"
   ]
  },
  {
   "cell_type": "code",
   "execution_count": 98,
   "id": "6cd1f2eb-bddf-4639-a36a-41c03acb7b45",
   "metadata": {},
   "outputs": [],
   "source": [
    "# Monday API connection\n",
    "board_id = 1564566045\n",
    "reader = MondayReader(monday_api_token)\n",
    "raw_response = reader._perform_request(board_id)\n",
    "documents = reader.load_data(board_id)"
   ]
  },
  {
   "cell_type": "markdown",
   "id": "10869954-ed79-4dda-a233-308f319721f6",
   "metadata": {},
   "source": [
    "## Local vector store"
   ]
  },
  {
   "cell_type": "code",
   "execution_count": null,
   "id": "a6cb630d-b9e3-47ac-bbf1-f1afa4f3fbd2",
   "metadata": {},
   "outputs": [],
   "source": [
    "!pip install llama-index-llms-openai"
   ]
  },
  {
   "cell_type": "code",
   "execution_count": 23,
   "id": "8a6d898c-f43c-4027-bca7-758582e0e193",
   "metadata": {},
   "outputs": [],
   "source": [
    "import os\n",
    "os.environ['TOKENIZERS_PARALLELISM'] = 'False'"
   ]
  },
  {
   "cell_type": "code",
   "execution_count": 20,
   "id": "95886e42-6882-43be-9fff-b05b0cafe98a",
   "metadata": {},
   "outputs": [],
   "source": [
    "# Setup database\n",
    "db = chromadb.PersistentClient(path=\"./chroma_db\")\n",
    "chroma_collection = db.get_or_create_collection(\"site\")"
   ]
  },
  {
   "cell_type": "code",
   "execution_count": 28,
   "id": "4bc5ec67-1896-4376-8644-1b000eb8d124",
   "metadata": {},
   "outputs": [],
   "source": [
    "# Create index \n",
    "from llama_index.llms.openai import OpenAI\n",
    "vector_store = ChromaVectorStore(chroma_collection=chroma_collection)\n",
    "storage_context = StorageContext.from_defaults(vector_store=vector_store)\n",
    "\n",
    "# Set up OpenAI LLM\n",
    "llm = OpenAI(model=\"gpt-3.5-turbo\")\n",
    "\n",
    "index = VectorStoreIndex.from_documents(\n",
    "    documents,\n",
    "    embed_model=embed_model,\n",
    "    storage_context=storage_context,\n",
    "    llm=llm\n",
    ")"
   ]
  },
  {
   "cell_type": "markdown",
   "id": "1c7c80b4-06d7-4c79-a0dd-ea556df629ec",
   "metadata": {},
   "source": [
    "### Supabase vector store"
   ]
  },
  {
   "cell_type": "code",
   "execution_count": null,
   "id": "383aa3ce-1c84-45d8-91ea-bb3716791d87",
   "metadata": {},
   "outputs": [],
   "source": [
    "!pip install llama-index-vector-stores-supabase"
   ]
  },
  {
   "cell_type": "code",
   "execution_count": 104,
   "id": "954ee569-b9af-4b13-9d58-0f5ea27d49f7",
   "metadata": {},
   "outputs": [],
   "source": [
    "from llama_index.vector_stores.supabase import SupabaseVectorStore\n",
    "\n",
    "# Substitute your connection string here\n",
    "DB_CONNECTION = os.getenv('DB_CONNECTION')\n",
    "\n",
    "vector_store = SupabaseVectorStore(\n",
    "    postgres_connection_string=DB_CONNECTION, \n",
    "    collection_name='monday'\n",
    ")\n",
    "storage_context = StorageContext.from_defaults(vector_store=vector_store)\n",
    "index = VectorStoreIndex.from_documents(documents, storage_context=storage_context)"
   ]
  },
  {
   "cell_type": "code",
   "execution_count": null,
   "id": "03caa2b7-3f67-45b4-8c4f-0fab8f745469",
   "metadata": {},
   "outputs": [],
   "source": [
    "llm = OpenAI(model=\"gpt-3.5-turbo\")\n",
    "index = VectorStoreIndex.from_documents(\n",
    "    documents,\n",
    "    embed_model=embed_model,\n",
    "    storage_context=storage_context\n",
    ")"
   ]
  },
  {
   "cell_type": "code",
   "execution_count": 105,
   "id": "0cff3694-981c-4564-8ec4-726b084b489f",
   "metadata": {},
   "outputs": [],
   "source": [
    "query_engine = index.as_query_engine()"
   ]
  },
  {
   "cell_type": "markdown",
   "id": "077e029d-298c-48a0-9cae-ca87c5ea2c91",
   "metadata": {},
   "source": [
    "## Query"
   ]
  },
  {
   "cell_type": "code",
   "execution_count": 106,
   "id": "1a92dbe8-149f-4e88-8ada-b9253246541b",
   "metadata": {},
   "outputs": [
    {
     "name": "stderr",
     "output_type": "stream",
     "text": [
      "/Users/matt.kevan/Dev/RAG_test/.venv/lib/python3.12/site-packages/vecs/collection.py:502: UserWarning: Query does not have a covering index for IndexMeasure.cosine_distance. See Collection.create_index\n",
      "  warnings.warn(\n"
     ]
    },
    {
     "name": "stdout",
     "output_type": "stream",
     "text": [
      "Natasha's Law extensively covers and explains how the new laws affect each type of business.\n"
     ]
    }
   ],
   "source": [
    "response = query_engine.query(\"What is Natasha's Law?\")\n",
    "print(response)"
   ]
  },
  {
   "cell_type": "markdown",
   "id": "95895d8f-f342-4a2a-b6c5-505b90bfadd2",
   "metadata": {},
   "source": [
    "## Citations"
   ]
  },
  {
   "cell_type": "code",
   "execution_count": 86,
   "id": "c57216fa-ab7e-49b5-ad25-f951d909c0bc",
   "metadata": {},
   "outputs": [],
   "source": [
    "from llama_index.core.query_engine import CitationQueryEngine"
   ]
  },
  {
   "cell_type": "code",
   "execution_count": 87,
   "id": "d586c451-561a-4cdc-b1b3-6306a93f7bde",
   "metadata": {},
   "outputs": [],
   "source": [
    "citation_query_engine = CitationQueryEngine.from_args(\n",
    "    index,\n",
    "    similarity_top_k=3,\n",
    "    # here we can control how granular citation sources are, the default is 512\n",
    "    citation_chunk_size=512,\n",
    ")"
   ]
  },
  {
   "cell_type": "code",
   "execution_count": 88,
   "id": "c3de567d-6026-49e7-a632-b90a616b2491",
   "metadata": {},
   "outputs": [
    {
     "name": "stdout",
     "output_type": "stream",
     "text": [
      "The Level 3 Supervising Food Safety course is designed for managers and supervisors in the catering industry [1].\n"
     ]
    }
   ],
   "source": [
    "response = citation_query_engine.query(\"Who is the Level 3 Supervising Food Safety course for?\")\n",
    "print(response)"
   ]
  },
  {
   "cell_type": "code",
   "execution_count": null,
   "id": "0837ecfe-eafe-442e-865f-beb9bd0f2e72",
   "metadata": {},
   "outputs": [],
   "source": [
    "for i in range(len(response.source_nodes)):\n",
    "    print(response.source_nodes[i].node.get_text())"
   ]
  },
  {
   "cell_type": "code",
   "execution_count": 79,
   "id": "64ec28ea-32c9-4f10-93a6-a54561841c33",
   "metadata": {},
   "outputs": [],
   "source": [
    "chat_engine = index.as_chat_engine()"
   ]
  },
  {
   "cell_type": "code",
   "execution_count": 89,
   "id": "d70978ad-c43c-486c-a012-ee43af1b064f",
   "metadata": {},
   "outputs": [
    {
     "name": "stdout",
     "output_type": "stream",
     "text": [
      "===== Entering Chat REPL =====\n",
      "Type \"exit\" to exit.\n",
      "\n"
     ]
    },
    {
     "name": "stdin",
     "output_type": "stream",
     "text": [
      "Human:  What is allergen awareness?\n"
     ]
    },
    {
     "name": "stdout",
     "output_type": "stream",
     "text": [
      "Assistant: Allergen awareness involves understanding the potential severe outcomes of hypersensitivities and the importance of addressing allergies properly. It is crucial for businesses to be transparent, inclusive, and proactive in managing allergens to ensure the safety of customers. This includes effective communication, staff training on food allergens, and providing accurate allergen information to customers to create a safe dining experience for individuals with food hypersensitivities.\n",
      "\n"
     ]
    },
    {
     "name": "stdin",
     "output_type": "stream",
     "text": [
      "Human:  please explain in more detail\n"
     ]
    },
    {
     "name": "stdout",
     "output_type": "stream",
     "text": [
      "Assistant: Allergen awareness is the understanding and acknowledgment of the potential severe reactions that can occur in individuals with allergies. It involves recognizing the importance of addressing allergies properly to ensure the safety and well-being of individuals with food hypersensitivities. \n",
      "\n",
      "Businesses play a significant role in allergen awareness by being transparent, inclusive, and proactive in managing allergens. This includes:\n",
      "\n",
      "1. Effective Communication: Businesses need to communicate clearly with customers about the presence of allergens in their products or dishes. This can be done through menu labeling, signage, and verbal communication with customers.\n",
      "\n",
      "2. Staff Training: It is essential for businesses to provide comprehensive training to their staff on food allergens. Staff members should be knowledgeable about common allergens, cross-contamination risks, and how to handle allergen-related inquiries from customers.\n",
      "\n",
      "3. Providing Accurate Allergen Information: Businesses should ensure that accurate allergen information is available to customers. This includes having detailed ingredient lists, allergen guides, and allergen-specific menus to help individuals with allergies make informed choices.\n",
      "\n",
      "By prioritizing allergen awareness, businesses can create a safe dining experience for individuals with food hypersensitivities and demonstrate their commitment to customer safety and inclusivity.\n",
      "\n"
     ]
    },
    {
     "ename": "KeyboardInterrupt",
     "evalue": "Interrupted by user",
     "output_type": "error",
     "traceback": [
      "\u001b[0;31m---------------------------------------------------------------------------\u001b[0m",
      "\u001b[0;31mKeyboardInterrupt\u001b[0m                         Traceback (most recent call last)",
      "Cell \u001b[0;32mIn[89], line 1\u001b[0m\n\u001b[0;32m----> 1\u001b[0m \u001b[43mchat_engine\u001b[49m\u001b[38;5;241;43m.\u001b[39;49m\u001b[43mchat_repl\u001b[49m\u001b[43m(\u001b[49m\u001b[43m)\u001b[49m\n",
      "File \u001b[0;32m~/Dev/RAG_test/.venv/lib/python3.12/site-packages/llama_index/core/chat_engine/types.py:341\u001b[0m, in \u001b[0;36mBaseChatEngine.chat_repl\u001b[0;34m(self)\u001b[0m\n\u001b[1;32m    339\u001b[0m response \u001b[38;5;241m=\u001b[39m \u001b[38;5;28mself\u001b[39m\u001b[38;5;241m.\u001b[39mchat(message)\n\u001b[1;32m    340\u001b[0m \u001b[38;5;28mprint\u001b[39m(\u001b[38;5;124mf\u001b[39m\u001b[38;5;124m\"\u001b[39m\u001b[38;5;124mAssistant: \u001b[39m\u001b[38;5;132;01m{\u001b[39;00mresponse\u001b[38;5;132;01m}\u001b[39;00m\u001b[38;5;130;01m\\n\u001b[39;00m\u001b[38;5;124m\"\u001b[39m)\n\u001b[0;32m--> 341\u001b[0m message \u001b[38;5;241m=\u001b[39m \u001b[38;5;28;43minput\u001b[39;49m\u001b[43m(\u001b[49m\u001b[38;5;124;43m\"\u001b[39;49m\u001b[38;5;124;43mHuman: \u001b[39;49m\u001b[38;5;124;43m\"\u001b[39;49m\u001b[43m)\u001b[49m\n",
      "File \u001b[0;32m~/Dev/RAG_test/.venv/lib/python3.12/site-packages/ipykernel/kernelbase.py:1282\u001b[0m, in \u001b[0;36mKernel.raw_input\u001b[0;34m(self, prompt)\u001b[0m\n\u001b[1;32m   1280\u001b[0m     msg \u001b[38;5;241m=\u001b[39m \u001b[38;5;124m\"\u001b[39m\u001b[38;5;124mraw_input was called, but this frontend does not support input requests.\u001b[39m\u001b[38;5;124m\"\u001b[39m\n\u001b[1;32m   1281\u001b[0m     \u001b[38;5;28;01mraise\u001b[39;00m StdinNotImplementedError(msg)\n\u001b[0;32m-> 1282\u001b[0m \u001b[38;5;28;01mreturn\u001b[39;00m \u001b[38;5;28;43mself\u001b[39;49m\u001b[38;5;241;43m.\u001b[39;49m\u001b[43m_input_request\u001b[49m\u001b[43m(\u001b[49m\n\u001b[1;32m   1283\u001b[0m \u001b[43m    \u001b[49m\u001b[38;5;28;43mstr\u001b[39;49m\u001b[43m(\u001b[49m\u001b[43mprompt\u001b[49m\u001b[43m)\u001b[49m\u001b[43m,\u001b[49m\n\u001b[1;32m   1284\u001b[0m \u001b[43m    \u001b[49m\u001b[38;5;28;43mself\u001b[39;49m\u001b[38;5;241;43m.\u001b[39;49m\u001b[43m_parent_ident\u001b[49m\u001b[43m[\u001b[49m\u001b[38;5;124;43m\"\u001b[39;49m\u001b[38;5;124;43mshell\u001b[39;49m\u001b[38;5;124;43m\"\u001b[39;49m\u001b[43m]\u001b[49m\u001b[43m,\u001b[49m\n\u001b[1;32m   1285\u001b[0m \u001b[43m    \u001b[49m\u001b[38;5;28;43mself\u001b[39;49m\u001b[38;5;241;43m.\u001b[39;49m\u001b[43mget_parent\u001b[49m\u001b[43m(\u001b[49m\u001b[38;5;124;43m\"\u001b[39;49m\u001b[38;5;124;43mshell\u001b[39;49m\u001b[38;5;124;43m\"\u001b[39;49m\u001b[43m)\u001b[49m\u001b[43m,\u001b[49m\n\u001b[1;32m   1286\u001b[0m \u001b[43m    \u001b[49m\u001b[43mpassword\u001b[49m\u001b[38;5;241;43m=\u001b[39;49m\u001b[38;5;28;43;01mFalse\u001b[39;49;00m\u001b[43m,\u001b[49m\n\u001b[1;32m   1287\u001b[0m \u001b[43m\u001b[49m\u001b[43m)\u001b[49m\n",
      "File \u001b[0;32m~/Dev/RAG_test/.venv/lib/python3.12/site-packages/ipykernel/kernelbase.py:1325\u001b[0m, in \u001b[0;36mKernel._input_request\u001b[0;34m(self, prompt, ident, parent, password)\u001b[0m\n\u001b[1;32m   1322\u001b[0m \u001b[38;5;28;01mexcept\u001b[39;00m \u001b[38;5;167;01mKeyboardInterrupt\u001b[39;00m:\n\u001b[1;32m   1323\u001b[0m     \u001b[38;5;66;03m# re-raise KeyboardInterrupt, to truncate traceback\u001b[39;00m\n\u001b[1;32m   1324\u001b[0m     msg \u001b[38;5;241m=\u001b[39m \u001b[38;5;124m\"\u001b[39m\u001b[38;5;124mInterrupted by user\u001b[39m\u001b[38;5;124m\"\u001b[39m\n\u001b[0;32m-> 1325\u001b[0m     \u001b[38;5;28;01mraise\u001b[39;00m \u001b[38;5;167;01mKeyboardInterrupt\u001b[39;00m(msg) \u001b[38;5;28;01mfrom\u001b[39;00m \u001b[38;5;28;01mNone\u001b[39;00m\n\u001b[1;32m   1326\u001b[0m \u001b[38;5;28;01mexcept\u001b[39;00m \u001b[38;5;167;01mException\u001b[39;00m:\n\u001b[1;32m   1327\u001b[0m     \u001b[38;5;28mself\u001b[39m\u001b[38;5;241m.\u001b[39mlog\u001b[38;5;241m.\u001b[39mwarning(\u001b[38;5;124m\"\u001b[39m\u001b[38;5;124mInvalid Message:\u001b[39m\u001b[38;5;124m\"\u001b[39m, exc_info\u001b[38;5;241m=\u001b[39m\u001b[38;5;28;01mTrue\u001b[39;00m)\n",
      "\u001b[0;31mKeyboardInterrupt\u001b[0m: Interrupted by user"
     ]
    }
   ],
   "source": [
    "chat_engine.chat_repl()"
   ]
  },
  {
   "cell_type": "code",
   "execution_count": null,
   "id": "73f254b1-d8c4-407d-990c-f60d3c047560",
   "metadata": {},
   "outputs": [],
   "source": []
  }
 ],
 "metadata": {
  "kernelspec": {
   "display_name": "Python 3 (ipykernel)",
   "language": "python",
   "name": "python3"
  },
  "language_info": {
   "codemirror_mode": {
    "name": "ipython",
    "version": 3
   },
   "file_extension": ".py",
   "mimetype": "text/x-python",
   "name": "python",
   "nbconvert_exporter": "python",
   "pygments_lexer": "ipython3",
   "version": "3.12.4"
  }
 },
 "nbformat": 4,
 "nbformat_minor": 5
}
