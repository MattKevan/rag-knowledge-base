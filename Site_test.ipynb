{
 "cells": [
  {
   "cell_type": "code",
   "execution_count": null,
   "id": "bb7f8472-ec1a-4c3b-b7f7-d638d69c9af7",
   "metadata": {},
   "outputs": [],
   "source": [
    "!pip install python-dotenv\n",
    "!pip install llama-index transformers torch accelerate\n",
    "!pip install llama-index-llms-huggingface\n",
    "!pip install chromadb\n",
    "!pip install python-dotenv"
   ]
  },
  {
   "cell_type": "code",
   "execution_count": 97,
   "id": "8ed69dd1-0d94-4a70-804a-675ec0ad540d",
   "metadata": {},
   "outputs": [],
   "source": [
    "import os\n",
    "from dotenv import load_dotenv\n",
    "load_dotenv()\n",
    "monday_api_token = os.getenv('MONDAY_API_KEY')"
   ]
  },
  {
   "cell_type": "markdown",
   "id": "1aba5a3a-5dfa-4c8e-a3b7-8855418abcb4",
   "metadata": {
    "jp-MarkdownHeadingCollapsed": true
   },
   "source": [
    "## Set up local embedding LLM"
   ]
  },
  {
   "cell_type": "code",
   "execution_count": null,
   "id": "96024dbd-7fcd-4e6a-9ca1-8d4a01a65385",
   "metadata": {},
   "outputs": [],
   "source": [
    "%pip install llama-index-embeddings-huggingface\n",
    "%pip install llama-index-embeddings-instructor\n",
    "%pip install sentence-transformers"
   ]
  },
  {
   "cell_type": "code",
   "execution_count": 101,
   "id": "11891f1c-140d-47dd-b646-39168ddac108",
   "metadata": {},
   "outputs": [],
   "source": [
    "from llama_index.embeddings.huggingface import HuggingFaceEmbedding\n",
    "\n",
    "embed_model = HuggingFaceEmbedding(model_name=\"BAAI/bge-small-en-v1.5\")"
   ]
  },
  {
   "cell_type": "markdown",
   "id": "a35da07b-f158-4840-8861-10abd3d165f0",
   "metadata": {
    "jp-MarkdownHeadingCollapsed": true
   },
   "source": [
    "## Web reader"
   ]
  },
  {
   "cell_type": "code",
   "execution_count": null,
   "id": "0be2230a-c5a8-41cd-8714-bbf60af1452c",
   "metadata": {},
   "outputs": [],
   "source": [
    "!pip install llama-index-readers-web"
   ]
  },
  {
   "cell_type": "code",
   "execution_count": null,
   "id": "8a6ce13b-6372-4ecf-945d-ee9137e88fc5",
   "metadata": {},
   "outputs": [],
   "source": [
    "from llama_index.readers.web import WholeSiteReader\n",
    "\n",
    "# Initialize the scraper with a prefix URL and maximum depth\n",
    "scraper = WholeSiteReader(\n",
    "    prefix=\"https://www.highspeedtraining.co.uk\", max_depth=10\n",
    ")\n",
    "\n",
    "# Start scraping from a base URL\n",
    "documents = scraper.load_data(\n",
    "    base_url=\"https://www.highspeedtraining.co.uk/hub/\"\n",
    ")  # Example base URL"
   ]
  },
  {
   "cell_type": "markdown",
   "id": "88a2c865-763f-4157-b59b-7e469d92356a",
   "metadata": {
    "jp-MarkdownHeadingCollapsed": true
   },
   "source": [
    "## Monday reader"
   ]
  },
  {
   "cell_type": "code",
   "execution_count": 94,
   "id": "05e628a8-a2f3-46d7-ba94-ea85e174e02e",
   "metadata": {},
   "outputs": [],
   "source": [
    "# Custom Monday API reader\n",
    "\n",
    "from typing import Dict, List\n",
    "import requests\n",
    "import json\n",
    "from llama_index.core.readers.base import BaseReader\n",
    "from llama_index.core.schema import Document\n",
    "\n",
    "class MondayReader(BaseReader):\n",
    "    \"\"\"monday.com reader. Reads board's data by a GraphQL query.\"\"\"\n",
    "    def __init__(self, api_key: str) -> None:\n",
    "        \"\"\"Initialize monday.com reader.\"\"\"\n",
    "        self.api_key = api_key\n",
    "        self.api_url = \"https://api.monday.com/v2\"\n",
    "\n",
    "    def _parse_item_values(self, cv) -> Dict[str, str]:\n",
    "        return {\"title\": cv.get(\"column\", {}).get(\"title\", \"\"), \"value\": cv.get(\"text\", \"\")}\n",
    "\n",
    "    def _parse_assets(self, assets) -> List[Dict[str, str]]:\n",
    "        return [{\"name\": asset.get(\"name\", \"\"), \"url\": asset.get(\"url\", \"\")} for asset in assets]\n",
    "\n",
    "    def _parse_updates(self, updates) -> List[Dict[str, str]]:\n",
    "        return [{\"body\": update.get(\"body\", \"\"), \"created_at\": update.get(\"created_at\", \"\")} for update in updates]\n",
    "\n",
    "    def _parse_data(self, item) -> Dict[str, any]:\n",
    "        return {\n",
    "            \"id\": item[\"id\"],\n",
    "            \"name\": item[\"name\"],\n",
    "            \"values\": [self._parse_item_values(cv) for cv in item[\"column_values\"]],\n",
    "            \"assets\": self._parse_assets(item.get(\"assets\", [])),\n",
    "            \"updates\": self._parse_updates(item.get(\"updates\", [])),\n",
    "            \"subitems\": [self._parse_data(subitem) for subitem in item.get(\"subitems\", [])]\n",
    "        }\n",
    "\n",
    "    def _perform_request(self, board_id: int, cursor: str = None) -> Dict[str, any]:\n",
    "        headers = {\"Authorization\": self.api_key}\n",
    "        query = \"\"\"\n",
    "            query($boardId: ID!, $cursor: String) {\n",
    "                boards(ids: [$boardId]) {\n",
    "                    name,\n",
    "                    items_page(limit: 100, cursor: $cursor) {\n",
    "                        cursor\n",
    "                        items {\n",
    "                            id,\n",
    "                            name,\n",
    "                            column_values {\n",
    "                                column { title }\n",
    "                                text\n",
    "                            }\n",
    "                            assets {\n",
    "                                name\n",
    "                                url\n",
    "                            }\n",
    "                            updates {\n",
    "                                body\n",
    "                                created_at\n",
    "                            }\n",
    "                            subitems {\n",
    "                                id,\n",
    "                                name,\n",
    "                                column_values {\n",
    "                                    column { title }\n",
    "                                    text\n",
    "                                }\n",
    "                                assets {\n",
    "                                    name\n",
    "                                    url\n",
    "                                }\n",
    "                                updates {\n",
    "                                    body\n",
    "                                    created_at\n",
    "                                }\n",
    "                            }\n",
    "                        }\n",
    "                    }\n",
    "                }\n",
    "            }\n",
    "        \"\"\"\n",
    "        variables = {\"boardId\": board_id, \"cursor\": cursor}\n",
    "        data = {\"query\": query, \"variables\": variables}\n",
    "        response = requests.post(url=self.api_url, json=data, headers=headers)\n",
    "        return response.json()\n",
    "\n",
    "    def _subitem_to_dict(self, subitem):\n",
    "        return {\n",
    "            \"id\": subitem[\"id\"],\n",
    "            \"name\": subitem[\"name\"],\n",
    "            \"values\": [{\"title\": v[\"title\"], \"value\": v[\"value\"]} for v in subitem[\"values\"]],\n",
    "            \"assets\": [{\"name\": a[\"name\"], \"url\": a[\"url\"]} for a in subitem[\"assets\"]],\n",
    "            \"updates\": [{\"body\": u[\"body\"], \"created_at\": u[\"created_at\"]} for u in subitem[\"updates\"]]\n",
    "        }\n",
    "\n",
    "    def load_data(self, board_id: int) -> List[Document]:\n",
    "        \"\"\"Load board data by board_id.\"\"\"\n",
    "        all_items = []\n",
    "        cursor = None\n",
    "        while True:\n",
    "            json_response = self._perform_request(board_id, cursor)\n",
    "            \n",
    "            if \"errors\" in json_response:\n",
    "                raise Exception(f\"API Error: {json_response['errors']}\")\n",
    "            \n",
    "            if \"data\" not in json_response or \"boards\" not in json_response[\"data\"]:\n",
    "                raise Exception(\"Unexpected API response structure\")\n",
    "            board_data = json_response[\"data\"][\"boards\"][0]\n",
    "            items_page = board_data[\"items_page\"]\n",
    "            \n",
    "            all_items.extend(items_page[\"items\"])\n",
    "            \n",
    "            if not items_page[\"cursor\"]:\n",
    "                break\n",
    "            \n",
    "            cursor = items_page[\"cursor\"]\n",
    "        parsed_items = [self._parse_data(item) for item in all_items]\n",
    "        \n",
    "        result = []\n",
    "        for item in parsed_items:\n",
    "            text = f\"name: {item['name']}\"\n",
    "            for item_value in item[\"values\"]:\n",
    "                if item_value[\"value\"]:\n",
    "                    text += f\", {item_value['title']}: {item_value['value']}\"\n",
    "            \n",
    "            if item[\"assets\"]:\n",
    "                text += \"\\nAssets:\"\n",
    "                for asset in item[\"assets\"]:\n",
    "                    text += f\"\\n- {asset['name']}: {asset['url']}\"\n",
    "            \n",
    "            if item[\"updates\"]:\n",
    "                text += \"\\nUpdates:\"\n",
    "                for update in item[\"updates\"]:\n",
    "                    text += f\"\\n- {update['created_at']}: {update['body']}\"\n",
    "            \n",
    "            if item[\"subitems\"]:\n",
    "                text += \"\\nSubitems:\"\n",
    "                for subitem in item[\"subitems\"]:\n",
    "                    text += f\"\\n- {subitem['name']}\"\n",
    "                    for subitem_value in subitem[\"values\"]:\n",
    "                        if subitem_value[\"value\"]:\n",
    "                            text += f\", {subitem_value['title']}: {subitem_value['value']}\"\n",
    "\n",
    "            result.append(\n",
    "                Document(\n",
    "                    text=text,\n",
    "                    extra_info={\n",
    "                        \"board_id\": board_id,\n",
    "                        \"item_id\": item[\"id\"],\n",
    "                        \"subitems_count\": len(item[\"subitems\"]),\n",
    "                        \"subitems_json\": json.dumps([self._subitem_to_dict(subitem) for subitem in item[\"subitems\"]])\n",
    "                    }\n",
    "                )\n",
    "            )\n",
    "        \n",
    "        return result"
   ]
  },
  {
   "cell_type": "code",
   "execution_count": 98,
   "id": "6cd1f2eb-bddf-4639-a36a-41c03acb7b45",
   "metadata": {},
   "outputs": [],
   "source": [
    "# Monday API connection\n",
    "board_id = 1564566045\n",
    "reader = MondayReader(monday_api_token)\n",
    "raw_response = reader._perform_request(board_id)\n",
    "documents = reader.load_data(board_id)"
   ]
  },
  {
   "cell_type": "markdown",
   "id": "10869954-ed79-4dda-a233-308f319721f6",
   "metadata": {
    "jp-MarkdownHeadingCollapsed": true
   },
   "source": [
    "## Local vector store"
   ]
  },
  {
   "cell_type": "code",
   "execution_count": null,
   "id": "a6cb630d-b9e3-47ac-bbf1-f1afa4f3fbd2",
   "metadata": {},
   "outputs": [],
   "source": [
    "!pip install llama-index-llms-openai"
   ]
  },
  {
   "cell_type": "code",
   "execution_count": 23,
   "id": "8a6d898c-f43c-4027-bca7-758582e0e193",
   "metadata": {},
   "outputs": [],
   "source": [
    "import os\n",
    "os.environ['TOKENIZERS_PARALLELISM'] = 'False'"
   ]
  },
  {
   "cell_type": "code",
   "execution_count": 20,
   "id": "95886e42-6882-43be-9fff-b05b0cafe98a",
   "metadata": {},
   "outputs": [],
   "source": [
    "# Setup database\n",
    "db = chromadb.PersistentClient(path=\"./chroma_db\")\n",
    "chroma_collection = db.get_or_create_collection(\"site\")"
   ]
  },
  {
   "cell_type": "code",
   "execution_count": 28,
   "id": "4bc5ec67-1896-4376-8644-1b000eb8d124",
   "metadata": {},
   "outputs": [],
   "source": [
    "# Create index \n",
    "from llama_index.llms.openai import OpenAI\n",
    "vector_store = ChromaVectorStore(chroma_collection=chroma_collection)\n",
    "storage_context = StorageContext.from_defaults(vector_store=vector_store)\n",
    "\n",
    "# Set up OpenAI LLM\n",
    "llm = OpenAI(model=\"gpt-3.5-turbo\")\n",
    "\n",
    "index = VectorStoreIndex.from_documents(\n",
    "    documents,\n",
    "    embed_model=embed_model,\n",
    "    storage_context=storage_context,\n",
    "    llm=llm\n",
    ")"
   ]
  },
  {
   "cell_type": "markdown",
   "id": "1c7c80b4-06d7-4c79-a0dd-ea556df629ec",
   "metadata": {},
   "source": [
    "## Supabase vector store"
   ]
  },
  {
   "cell_type": "code",
   "execution_count": null,
   "id": "383aa3ce-1c84-45d8-91ea-bb3716791d87",
   "metadata": {},
   "outputs": [],
   "source": [
    "!pip install llama-index-vector-stores-supabase"
   ]
  },
  {
   "cell_type": "code",
   "execution_count": 104,
   "id": "954ee569-b9af-4b13-9d58-0f5ea27d49f7",
   "metadata": {},
   "outputs": [],
   "source": [
    "from llama_index.vector_stores.supabase import SupabaseVectorStore\n",
    "\n",
    "# Substitute your connection string here\n",
    "DB_CONNECTION = os.getenv('DB_CONNECTION')\n",
    "\n",
    "vector_store = SupabaseVectorStore(\n",
    "    postgres_connection_string=DB_CONNECTION, \n",
    "    collection_name='knowledgebase'\n",
    ")\n",
    "\n",
    "storage_context = StorageContext.from_defaults(vector_store=vector_store)\n",
    "\n",
    "# Build index from documents\n",
    "\n",
    "index = VectorStoreIndex.from_documents(documents, storage_context=storage_context)"
   ]
  },
  {
   "cell_type": "markdown",
   "id": "2d6bed0e-64e1-4515-9bf6-8e1769294941",
   "metadata": {},
   "source": [
    "## Select collection"
   ]
  },
  {
   "cell_type": "code",
   "execution_count": 156,
   "id": "6937fb08-e0c0-412a-8e60-4bb30dad47cf",
   "metadata": {},
   "outputs": [
    {
     "name": "stdout",
     "output_type": "stream",
     "text": [
      "**********\n",
      "Trace: index_construction\n",
      "**********\n"
     ]
    }
   ],
   "source": [
    "DB_CONNECTION = os.getenv('DB_CONNECTION')\n",
    "\n",
    "vector_store = SupabaseVectorStore(\n",
    "    postgres_connection_string=DB_CONNECTION, \n",
    "    collection_name='knowledgebase'\n",
    ")\n",
    "\n",
    "index = VectorStoreIndex.from_vector_store(vector_store)"
   ]
  },
  {
   "cell_type": "markdown",
   "id": "077e029d-298c-48a0-9cae-ca87c5ea2c91",
   "metadata": {},
   "source": [
    "## Basic query engine"
   ]
  },
  {
   "cell_type": "code",
   "execution_count": 151,
   "id": "d332ae86-73a0-404f-a3ab-02ab5a051e61",
   "metadata": {},
   "outputs": [],
   "source": [
    "query_engine = index.as_query_engine()"
   ]
  },
  {
   "cell_type": "code",
   "execution_count": 158,
   "id": "1a92dbe8-149f-4e88-8ada-b9253246541b",
   "metadata": {},
   "outputs": [
    {
     "name": "stderr",
     "output_type": "stream",
     "text": [
      "/Users/matt.kevan/Dev/RAG_test/.venv/lib/python3.12/site-packages/vecs/collection.py:502: UserWarning: Query does not have a covering index for IndexMeasure.cosine_distance. See Collection.create_index\n",
      "  warnings.warn(\n"
     ]
    },
    {
     "name": "stdout",
     "output_type": "stream",
     "text": [
      "**********\n",
      "Trace: query\n",
      "    |_CBEventType.QUERY -> 1.495382 seconds\n",
      "      |_CBEventType.RETRIEVE -> 0.607878 seconds\n",
      "        |_CBEventType.EMBEDDING -> 0.322019 seconds\n",
      "      |_CBEventType.SYNTHESIZE -> 0.886264 seconds\n",
      "        |_CBEventType.TEMPLATING -> 3.7e-05 seconds\n",
      "        |_CBEventType.LLM -> 0.876407 seconds\n",
      "**********\n",
      "HACCP is a system that helps food business operators look at how they handle food and introduces procedures to make sure the food produced is safe to eat.\n"
     ]
    }
   ],
   "source": [
    "response = query_engine.query(\"What is HAACP?\")\n",
    "print(response)"
   ]
  },
  {
   "cell_type": "markdown",
   "id": "1d61521f-9344-4ce0-a4f8-ea5e15007b36",
   "metadata": {},
   "source": [
    "## Sub-question query engine"
   ]
  },
  {
   "cell_type": "code",
   "execution_count": 160,
   "id": "b698df82-911b-4799-8b8f-e73f18e77c6b",
   "metadata": {},
   "outputs": [],
   "source": [
    "from llama_index.core import VectorStoreIndex, SimpleDirectoryReader\n",
    "from llama_index.core.tools import QueryEngineTool, ToolMetadata\n",
    "from llama_index.core.query_engine import SubQuestionQueryEngine\n",
    "from llama_index.core.callbacks import CallbackManager, LlamaDebugHandler\n",
    "from llama_index.core import Settings\n",
    "import nest_asyncio\n",
    "\n",
    "nest_asyncio.apply()\n",
    "\n",
    "llama_debug = LlamaDebugHandler(print_trace_on_end=True)\n",
    "callback_manager = CallbackManager([llama_debug])\n",
    "\n",
    "Settings.callback_manager = callback_manager\n",
    "\n",
    "# setup base query engine as tool\n",
    "query_engine_tools = [\n",
    "    QueryEngineTool(\n",
    "        query_engine=query_engine,\n",
    "        metadata=ToolMetadata(\n",
    "            name=\"knowledgebase\",\n",
    "            description=\"HST knowledgebase\",\n",
    "        ),\n",
    "    ),\n",
    "]\n",
    "\n",
    "query_engine = SubQuestionQueryEngine.from_defaults(\n",
    "    query_engine_tools=query_engine_tools,\n",
    "    use_async=True,\n",
    ")"
   ]
  },
  {
   "cell_type": "code",
   "execution_count": 161,
   "id": "03ef242b-8454-4dfe-8945-640da10d27fc",
   "metadata": {},
   "outputs": [
    {
     "name": "stdout",
     "output_type": "stream",
     "text": [
      "Generated 5 sub questions.\n",
      "\u001b[1;3;38;2;237;90;200m[knowledgebase] Q: What are the differences between the levels 1, 2, and 3 food hygiene courses?\n",
      "\u001b[0m\u001b[1;3;38;2;90;149;237m[knowledgebase] Q: Is there a level 4 food hygiene course available?\n",
      "\u001b[0m\u001b[1;3;38;2;11;159;203m[knowledgebase] Q: What are the relevant audiences for the food hygiene courses?\n",
      "\u001b[0m\u001b[1;3;38;2;155;135;227m[knowledgebase] Q: What are the course titles for the food hygiene courses?\n",
      "\u001b[0m\u001b[1;3;38;2;237;90;200m[knowledgebase] Q: What are the prices of the food hygiene courses?\n",
      "\u001b[0m\u001b[1;3;38;2;237;90;200m[knowledgebase] A: £20+VAT\n",
      "\u001b[0m\u001b[1;3;38;2;155;135;227m[knowledgebase] A: Catering, Retail, and Manufacturing.\n",
      "\u001b[0m\u001b[1;3;38;2;11;159;203m[knowledgebase] A: The relevant audiences for the food hygiene courses are food handlers working in catering, retail, or manufacturing environments.\n",
      "\u001b[0m\u001b[1;3;38;2;90;149;237m[knowledgebase] A: There is no mention of a level 4 food hygiene course in the provided context information.\n",
      "\u001b[0m\u001b[1;3;38;2;237;90;200m[knowledgebase] A: The differences between the levels 1, 2, and 3 food hygiene courses lie in the depth of knowledge and complexity of the content covered. Level 1 typically provides basic food hygiene information, suitable for those handling low-risk foods. Level 2 delves deeper into food safety principles and is recommended before progressing to Level 3, which covers advanced topics and is more suitable for individuals with prior knowledge or experience in food handling. Each level builds upon the previous one, offering a more comprehensive understanding of food safety practices and regulations.\n",
      "\u001b[0m**********\n",
      "Trace: query\n",
      "    |_CBEventType.QUERY -> 7.102374 seconds\n",
      "      |_CBEventType.LLM -> 1.678618 seconds\n",
      "      |_CBEventType.SUB_QUESTION -> 3.658153 seconds\n",
      "        |_CBEventType.QUERY -> 3.65685 seconds\n",
      "          |_CBEventType.RETRIEVE -> 1.647908 seconds\n",
      "            |_CBEventType.EMBEDDING -> 1.402103 seconds\n",
      "          |_CBEventType.SYNTHESIZE -> 2.007996 seconds\n",
      "            |_CBEventType.TEMPLATING -> 2.4e-05 seconds\n",
      "            |_CBEventType.LLM -> 1.994116 seconds\n",
      "      |_CBEventType.SUB_QUESTION -> 2.404128 seconds\n",
      "        |_CBEventType.QUERY -> 2.403577 seconds\n",
      "          |_CBEventType.RETRIEVE -> 0.536023 seconds\n",
      "            |_CBEventType.EMBEDDING -> 0.276004 seconds\n",
      "          |_CBEventType.SYNTHESIZE -> 1.865772 seconds\n",
      "            |_CBEventType.TEMPLATING -> 4.1e-05 seconds\n",
      "            |_CBEventType.LLM -> 1.851669 seconds\n",
      "      |_CBEventType.SUB_QUESTION -> 2.361839 seconds\n",
      "        |_CBEventType.QUERY -> 2.361318 seconds\n",
      "          |_CBEventType.RETRIEVE -> 1.365732 seconds\n",
      "            |_CBEventType.EMBEDDING -> 1.118209 seconds\n",
      "          |_CBEventType.SYNTHESIZE -> 0.994197 seconds\n",
      "            |_CBEventType.TEMPLATING -> 2.7e-05 seconds\n",
      "            |_CBEventType.LLM -> 0.977849 seconds\n",
      "      |_CBEventType.SUB_QUESTION -> 2.214819 seconds\n",
      "        |_CBEventType.QUERY -> 2.214128 seconds\n",
      "          |_CBEventType.RETRIEVE -> 0.831796 seconds\n",
      "            |_CBEventType.EMBEDDING -> 0.559357 seconds\n",
      "          |_CBEventType.SYNTHESIZE -> 1.381044 seconds\n",
      "            |_CBEventType.TEMPLATING -> 2.9e-05 seconds\n",
      "            |_CBEventType.LLM -> 1.365538 seconds\n",
      "      |_CBEventType.SUB_QUESTION -> 2.200792 seconds\n",
      "        |_CBEventType.QUERY -> 2.200251 seconds\n",
      "          |_CBEventType.RETRIEVE -> 1.080476 seconds\n",
      "            |_CBEventType.EMBEDDING -> 0.85442 seconds\n",
      "          |_CBEventType.SYNTHESIZE -> 1.116008 seconds\n",
      "            |_CBEventType.TEMPLATING -> 3.1e-05 seconds\n",
      "            |_CBEventType.LLM -> 1.10313 seconds\n",
      "      |_CBEventType.SYNTHESIZE -> 1.7593 seconds\n",
      "        |_CBEventType.TEMPLATING -> 2.7e-05 seconds\n",
      "        |_CBEventType.LLM -> 1.754507 seconds\n",
      "**********\n",
      "The differences between the levels 1, 2, and 3 food hygiene courses are based on the depth of knowledge and complexity of the content covered. Level 1 provides basic food hygiene information, Level 2 delves deeper into food safety principles, and Level 3 covers advanced topics. There is no mention of a level 4 food hygiene course. The relevant audiences for these courses are food handlers in catering, retail, or manufacturing environments. The course titles are Catering, Retail, and Manufacturing, and the price is £20+VAT.\n"
     ]
    }
   ],
   "source": [
    "response = query_engine.query(\n",
    "    \"What are the differences between the levels 1,2 and 3 food hygiene courses. Is there a level 4 course? Please outline relevant audiences, course titles and prices\"\n",
    ")\n",
    "print(response)"
   ]
  },
  {
   "cell_type": "code",
   "execution_count": 126,
   "id": "9241ffb7-f428-440b-b8ad-309d99f04225",
   "metadata": {},
   "outputs": [
    {
     "name": "stdout",
     "output_type": "stream",
     "text": [
      "Full response object: The main things to be aware of when handling abrasive wheels are ensuring the wheel is suitable for the machine and material, inspecting the wheel for damage, properly mounting and securing the wheel, using appropriate personal protective equipment, and following correct procedures for starting and stopping the machine. Regular training on safe handling practices and maintenance is also important.\n",
      "\n",
      "Response content: The main things to be aware of when handling abrasive wheels are ensuring the wheel is suitable for the machine and material, inspecting the wheel for damage, properly mounting and securing the wheel, using appropriate personal protective equipment, and following correct procedures for starting and stopping the machine. Regular training on safe handling practices and maintenance is also important.\n",
      "\n",
      "Source nodes:\n",
      "- Node content: Sub question: What are the safety guidelines for handling abrasive wheels?\n",
      "Response: The safety guidelines for handling abrasive wheels include ensuring that the wheel is suitable for the machine and the material being worked on, inspecting the wheel for any damage before use, ensuring the wheel is properly mounted and secured, using appropriate personal protective equipment such as goggles and gloves, and following proper procedures for starting and stopping the machine. Regular training on safe handling practices and maintenance of abrasive wheels is also essential to prevent accidents and ensure workplace safety.\n",
      "  Node score: None\n",
      "- Node content: Sub question: What are the common types of abrasive wheels used in industry?\n",
      "Response: Grinding wheels, cutting wheels, and abrasive flap wheels are common types of abrasive wheels used in industry.\n",
      "  Node score: None\n",
      "- Node content: relevant and engaging for learners. These courses are designed to teach food handlers to work safely and hygienically in line with food safety legislation to produce safe food in a catering, retail or manufacturing environment. While much of the course content has remained the same, the modules have been condensed and restructured.</p> <p></p> <p>The three courses all now consist of seven modules:</p> <p></p> <ul><li>Food Hygiene and Safety<br>Microbial Hazards, Physical, Chemical and Allergenic Hazards<br>Food Storage<br>Food Preparation<br>Personal Hygiene<br>Cleaning and Disinfection.</li></ul> <p>We have removed the module on legislation from the previous course version and interspersed this throughout the course where it is relevant to the content. The courses have been thoroughly edited to ensure that all of the content is essential and relevant to the target audience who will be taking this level of the course and improve readability.</p> <p></p> <p>We have removed most of the downloadable content from these courses as data indicated that learners did not interact with them and they were not relevant to the target audience. Instead, the courses now feature more DMU to facilitate engagement and understanding, including new illustrations and reflection points, as well as new illustrated scenarios. We have included a number of new animations to present context that was previously in text form, both to improve engagement but also to help learners to better understand previously challenging concepts, such as HACCP, high and low-risk foods and premise design. We have also re-recorded videos from the previous course version to match our current branding.</p> <p></p> <p>We have added illustrated scenario questions to all three courses that relate to situations that could arise in the three different industries.\n",
      "  Node score: 0.22751433142204402\n",
      "- Node content: relevant and engaging for learners. These courses are designed to teach food handlers to work safely and hygienically in line with food safety legislation to produce safe food in a catering, retail or manufacturing environment. While much of the course content has remained the same, the modules have been condensed and restructured.</p> <p></p> <p>The three courses all now consist of seven modules:</p> <p></p> <ul><li>Food Hygiene and Safety<br>Microbial Hazards, Physical, Chemical and Allergenic Hazards<br>Food Storage<br>Food Preparation<br>Personal Hygiene<br>Cleaning and Disinfection.</li></ul> <p>We have removed the module on legislation from the previous course version and interspersed this throughout the course where it is relevant to the content. The courses have been thoroughly edited to ensure that all of the content is essential and relevant to the target audience who will be taking this level of the course and improve readability.</p> <p></p> <p>We have removed most of the downloadable content from these courses as data indicated that learners did not interact with them and they were not relevant to the target audience. Instead, the courses now feature more DMU to facilitate engagement and understanding, including new illustrations and reflection points, as well as new illustrated scenarios. We have included a number of new animations to present context that was previously in text form, both to improve engagement but also to help learners to better understand previously challenging concepts, such as HACCP, high and low-risk foods and premise design. We have also re-recorded videos from the previous course version to match our current branding.</p> <p></p> <p>We have added illustrated scenario questions to all three courses that relate to situations that could arise in the three different industries.\n",
      "  Node score: 0.24830768634381006\n",
      "\n",
      "Response metadata: {'8722e2ae-ba68-43f7-93c9-fa366c156af5': {}, 'd9a1f0f2-661a-49e6-9b87-2ccd1b53d509': {}, 'dbf72981-426d-45ac-b5fd-a7d8086b221d': {'board_id': 1564566045, 'item_id': '1564566159', 'subitems_count': 4, 'subitems_json': '[{\"id\": \"1564573167\", \"name\": \"Can a manger take a level 3 course without having completed a level 2?\", \"values\": [{\"title\": \"Owner\", \"value\": \"\"}, {\"title\": \"Date\", \"value\": \"\"}], \"assets\": [], \"updates\": [{\"body\": \"<p>We would recommend taking a level 2 course first, as some of the information in the level 3 can be too advanced for someone with little or no prior knowledge beforehand.</p>\", \"created_at\": \"2024-07-15T15:46:07Z\"}]}, {\"id\": \"1564573926\", \"name\": \"Which course should storage and distribution take?\", \"values\": [{\"title\": \"Owner\", \"value\": \"\"}, {\"title\": \"Date\", \"value\": \"\"}], \"assets\": [], \"updates\": [{\"body\": \"<p>We would recommend taking the manufacturing version of the course - especially if they follow BRCGS and other industry standards. We are looking at creating a course version that is tailored specifically to storage and distribution in the near future.</p>\", \"created_at\": \"2024-07-15T15:46:44Z\"}]}, {\"id\": \"1564574267\", \"name\": \"Does the course cover Natasha\\'s law?\", \"values\": [{\"title\": \"Owner\", \"value\": \"\"}, {\"title\": \"Date\", \"value\": \"\"}], \"assets\": [], \"updates\": [{\"body\": \"<p>Yes, the course extensively covers Natasha\\\\u2019s Law and explains how the new laws affect each type of business.\\\\ufeff\\\\ufeff</p>\", \"created_at\": \"2024-07-15T15:47:07Z\"}]}, {\"id\": \"1564574538\", \"name\": \"Which course should I recommend to bakers?\", \"values\": [{\"title\": \"Owner\", \"value\": \"\"}, {\"title\": \"Date\", \"value\": \"\"}], \"assets\": [], \"updates\": [{\"body\": \"<p>It depends on the individual business. If the baker is based within a supermarket, for example, then we would recommend them taking the Retail version. If the baker works out of their own kitchen or in a small bakery, the Catering would be best suited for them. </p> <p></p> <p>If the learner works in a large scale bakery - for example, Hovis - then the Manufacturing version would be the one for them to take. If you\\\\u2019re unsure on whether or not to recommend the manufacturing, you can ask them if they follow any additional industry standards (such as BRCGS, SALSA, IFO, ISO, etc). If they do, the Manufacturing version would be suitable.</p>\", \"created_at\": \"2024-07-15T15:47:32Z\"}]}]'}}\n"
     ]
    },
    {
     "ename": "AttributeError",
     "evalue": "'Response' object has no attribute 'extra_info'",
     "output_type": "error",
     "traceback": [
      "\u001b[0;31m---------------------------------------------------------------------------\u001b[0m",
      "\u001b[0;31mAttributeError\u001b[0m                            Traceback (most recent call last)",
      "Cell \u001b[0;32mIn[126], line 11\u001b[0m\n\u001b[1;32m      7\u001b[0m     \u001b[38;5;66;03m#print(f\"  Node document ID: {node.node.doc_id}\")\u001b[39;00m\n\u001b[1;32m      8\u001b[0m \n\u001b[1;32m      9\u001b[0m \u001b[38;5;66;03m# Metadata and other attributes\u001b[39;00m\n\u001b[1;32m     10\u001b[0m \u001b[38;5;28mprint\u001b[39m(\u001b[38;5;124m\"\u001b[39m\u001b[38;5;130;01m\\n\u001b[39;00m\u001b[38;5;124mResponse metadata:\u001b[39m\u001b[38;5;124m\"\u001b[39m, response\u001b[38;5;241m.\u001b[39mmetadata)\n\u001b[0;32m---> 11\u001b[0m \u001b[38;5;28mprint\u001b[39m(\u001b[38;5;124m\"\u001b[39m\u001b[38;5;124mExtra info:\u001b[39m\u001b[38;5;124m\"\u001b[39m, \u001b[43mresponse\u001b[49m\u001b[38;5;241;43m.\u001b[39;49m\u001b[43mextra_info\u001b[49m)\n",
      "\u001b[0;31mAttributeError\u001b[0m: 'Response' object has no attribute 'extra_info'"
     ]
    }
   ],
   "source": [
    "print(\"Full response object:\", response)\n",
    "print(\"\\nResponse content:\", response.response)\n",
    "print(\"\\nSource nodes:\")\n",
    "for node in response.source_nodes:\n",
    "    print(f\"- Node content: {node.node.text}\")\n",
    "    print(f\"  Node score: {node.score}\")\n",
    "    #print(f\"  Node document ID: {node.node.doc_id}\")\n",
    "\n",
    "# Metadata and other attributes\n",
    "print(\"\\nResponse metadata:\", response.metadata)\n",
    "print(\"Extra info:\", response.extra_info)"
   ]
  },
  {
   "cell_type": "markdown",
   "id": "95895d8f-f342-4a2a-b6c5-505b90bfadd2",
   "metadata": {},
   "source": [
    "## Citations"
   ]
  },
  {
   "cell_type": "code",
   "execution_count": 86,
   "id": "c57216fa-ab7e-49b5-ad25-f951d909c0bc",
   "metadata": {},
   "outputs": [],
   "source": [
    "from llama_index.core.query_engine import CitationQueryEngine"
   ]
  },
  {
   "cell_type": "code",
   "execution_count": 162,
   "id": "d586c451-561a-4cdc-b1b3-6306a93f7bde",
   "metadata": {},
   "outputs": [],
   "source": [
    "\n",
    "\n",
    "citation_query_engine = CitationQueryEngine.from_args(\n",
    "    index,\n",
    "    similarity_top_k=3,\n",
    "    # here we can control how granular citation sources are, the default is 512\n",
    "    citation_chunk_size=512,\n",
    ")"
   ]
  },
  {
   "cell_type": "code",
   "execution_count": 163,
   "id": "c3de567d-6026-49e7-a632-b90a616b2491",
   "metadata": {},
   "outputs": [
    {
     "name": "stdout",
     "output_type": "stream",
     "text": [
      "**********\n",
      "Trace: query\n",
      "    |_CBEventType.QUERY -> 1.838546 seconds\n",
      "      |_CBEventType.RETRIEVE -> 0.585612 seconds\n",
      "      |_CBEventType.SYNTHESIZE -> 1.252355 seconds\n",
      "        |_CBEventType.TEMPLATING -> 1.2e-05 seconds\n",
      "        |_CBEventType.LLM -> 1.242375 seconds\n",
      "**********\n",
      "Natasha's Law is a new food labelling legislation that requires all foods produced and packed for sale at the same premises to be labeled with a full list of ingredients. This law was created after Natasha Ednan-Laperouse had a fatal allergic reaction, and it aims to provide greater transparency around food labelling requirements [1].\n"
     ]
    }
   ],
   "source": [
    "response = citation_query_engine.query(\"What is Natasha's Law?\")\n",
    "print(response)"
   ]
  },
  {
   "cell_type": "code",
   "execution_count": 136,
   "id": "0837ecfe-eafe-442e-865f-beb9bd0f2e72",
   "metadata": {},
   "outputs": [
    {
     "name": "stdout",
     "output_type": "stream",
     "text": [
      "Source 1:\n",
      "Like all modern websites, we are using cookies to ensure our website works, provide you with a personalised experience, and help us make our website better for everyone.\n",
      "Learn more\n",
      "Let me decide I'm okay with this\n",
      "(0)\n",
      "New accreditation - View our range of City & Guilds Assured courses\n",
      "Level 3 Food Hygiene Course in Catering\n",
      "Duration 8-10 hours\n",
      "Last audited 5th June 2023\n",
      "For me\n",
      "For teams\n",
      "100% online training\n",
      "Start when you like\n",
      "Learn on any device (desktop, mobile or tablet)\n",
      "Instant assessment and result\n",
      "£130 +VAT\n",
      "INCLUDE VAT\n",
      "Add To Basket\n",
      "This Level 3 Food Hygiene Training Course is designed for managers and supervisors in the catering industry to help them understand their essential day-to-day responsibilities, including how to implement the basics of a HACCP food safety management system.\n",
      "The course provides knowledge of food hygiene practices and legal responsibilities and gives further detail on the controls that can be implemented to ensure that the food handling process is as safe and hygienic as possible. The course uses a variety of written text, interactive exercises, video content and downloadable resources to provide learners with up-to-date knowledge of how to comply with, and uphold, food safety law in their workplace.\n",
      "100% online training\n",
      "Access anywhere\n",
      "Same day digital certificate\n",
      "Printed certificate posted next working day\n",
      "Full audio voiceover\n",
      "Unlimited assessment attempts\n",
      "Matches RSPH and CIEH level 3 syllabus\n",
      "Meets UK and EU legal requirements for food handlers\n",
      "Accepted by Local Authorities\n",
      "Accredited by CPD, assured by RoSPA Qualifications and endorsed by the Institute of Hospitality\n",
      "EHO approved training\n",
      "Accreditations\n",
      "Course Content\n",
      "FAQs\n",
      "Reviews\n",
      "What you'll learn\n",
      "By the end of this course learners will:\n",
      "Understand why food hygiene and safety practices are essential for all food handlers in a catering environment.\n",
      "Have awareness of the relevant food safety legislation and how it can be complied with.\n",
      "Understand the different ways in which food can be contaminated and how these risks can be effectively controlled.\n",
      "Have knowledge of the way that bacteria can affect food and make it unfit for consumption, plus know how to control the risk.\n",
      "Understand the correct procedures for deliveries, storage and preservation of food and be able to state the safe temperatures for cooking, chilling and freezing food and know how to take accurate temperature readings.\n",
      "\n",
      "Source 2:\n",
      "Show more\n",
      "Training you can trust\n",
      "Accredited by CPD\n",
      "All of our courses are accredited by the CPD Certification Service as conforming to universally accepted Continuing Professional Development (CPD) guidelines.\n",
      "Recommended renewal:\n",
      "3 years\n",
      "What does this mean? This certificate does not have an expiry date, however, based on industry best practice guidelines there is a recommended renewal period.\n",
      "Course in action\n",
      "Engage and empower\n",
      "Our in-house Learning Designers develop all of our courses to give you and your learners the most engaging training possible.\n",
      "Register for a free course demo\n",
      "Why take this course?\n",
      "Over 2 million cases of foodborne illness occur in the UK every year. The risk of illnesses from food increases when workers involved in the preparation, handling and serving of food do not have the information or training necessary to enable them to work safely and hygienically.\n",
      "Food businesses have a legal responsibility to protect consumers from food that is damaging to health, from receiving food that is not of the nature, substance or quality which consumers expect and from food that is labelled, advertised and presented in a way that is false or misleading. Failure to comply with your duties and responsibilities as a food business may result in action being taken against you by the Food Standards Agency (FSA) or other enforcement agencies. By completing our Level 3 Food Hygiene in Catering training course, food business owners, managers and supervisory staff will learn how to comply with food safety legislation and develop advanced knowledge of food hygiene principles and best practice procedures. The course will explain senior responsibilities, how to implement a food safety management system and how to maintain high standards to ensure safe and hygienic food handling.\n",
      "\n",
      "Source 3:\n",
      "Like all modern websites, we are using cookies to ensure our website works, provide you with a personalised experience, and help us make our website better for everyone.\n",
      "Learn more\n",
      "Let me decide I'm okay with this\n",
      "(0)\n",
      "New accreditation - View our range of City & Guilds Assured courses\n",
      "Level 3 Food Hygiene and Safety in Manufacturing\n",
      "Duration 8-10 hours\n",
      "Last audited 5th June 2023\n",
      "For me\n",
      "For teams\n",
      "100% online training\n",
      "Start when you like\n",
      "Learn on any device (desktop, mobile or tablet)\n",
      "Instant assessment and result\n",
      "£130 +VAT\n",
      "INCLUDE VAT\n",
      "Add To Basket\n",
      "If you are a manager or supervisor of a food manufacturing premises, then you have an important role to play in promoting food safety legislation in the workplace and encouraging other staff members to follow good hygiene practices. By law, all food handlers must be appropriately trained, and this Level 3 course helps those in management and supervisory roles understand their essential day-to-day responsibilities, including how to implement the basics of a HACCP food safety management system.\n",
      "The course provides knowledge of food hygiene practices and legal responsibilities and gives further detail on the controls that can be implemented to ensure that the food handling process is as safe and hygienic as possible. The course uses a variety of written text, interactive exercises, video content and downloadable resources to provide learners with up-to-date knowledge of how to comply with, and uphold, food safety law in their workplace.\n",
      "100% online training\n",
      "Access anywhere\n",
      "Same day digital certificate\n",
      "Printed certificate posted next working day\n",
      "Full audio voiceover\n",
      "Unlimited assessment attempts\n",
      "Matches RSPH and CIEH level 3 syllabus\n",
      "Matches RSPH and CIEH level 3 syllabus\n",
      "Accepted by Local Authorities\n",
      "Accredited by CPD, assured by RoSPA Qualifications, endorsed by the Institute of Hospitality\n",
      "Reviewed by an independent lead auditor\n",
      "Accreditations\n",
      "Course Content\n",
      "Reviews\n",
      "What you'll learn\n",
      "By the end of this course learners will:\n",
      "Understand why food hygiene and safety practices are essential for all food handlers in a food manufacturing environment.\n",
      "Have awareness of the relevant food safety legislation and how it can be complied with.\n",
      "Understand the different ways in which food can be contaminated and how these risks can be effectively controlled.\n",
      "Have knowledge of the way that bacteria can affect food and make it unfit for consumption, plus know how to control the risk.\n",
      "\n",
      "Source 4:\n",
      "Understand the correct procedures for deliveries, storage and preservation of food and be able to state the safe temperatures for cooking, chilling and freezing food and know how to take temperature readings.\n",
      "Show more\n",
      "Training you can trust\n",
      "Accredited by CPD\n",
      "All of our courses are accredited by the CPD Certification Service as conforming to universally accepted Continuing Professional Development (CPD) guidelines.\n",
      "Recommended renewal:\n",
      "3 years\n",
      "What does this mean? This certificate does not have an expiry date, however, based on industry best practice guidelines there is a recommended renewal period.\n",
      "Engage and empower\n",
      "Our in-house Learning Designers develop all of our courses to give you and your learners the most engaging training possible.\n",
      "Register for a free course demo\n",
      "Why take this course?\n",
      "Over 2 million cases of foodborne illness occur in the UK every year. The risk of illnesses from food increases when workers involved in the preparation, handling and serving of food do not have the information or training necessary to enable them to work safely and hygienically.\n",
      "Food businesses have a legal responsibility to protect consumers from food that is damaging to health, from receiving food that is not of the nature, substance or quality which consumers expect and from food that is labelled, advertised and presented in a way that is false or misleading. Failure to comply with your duties and responsibilities as a food business may result in action being taken against you by the Food Standards Agency (FSA) or other enforcement agencies. By completing our Level 3 Food Hygiene and Safety in Manufacturing training course, food business owners, managers and supervisory staff will learn how to comply with food safety legislation and develop advanced knowledge of food hygiene principles and best practice procedures. The course will explain senior responsibilities, how to implement a food safety management system and how to maintain high standards to ensure safe and hygienic food handling.\n",
      "\n",
      "Source 5:\n",
      "Food businesses have a legal responsibility to protect consumers from food that is damaging to health, from receiving food that is not of the nature, substance or quality which consumers expect and from food that is labelled, advertised and presented in a way that is false or misleading. Failure to comply with your duties and responsibilities as a food business may result in action being taken against you by the Food Standards Agency (FSA) or other enforcement agencies. By completing our Level 3 Food Hygiene in Catering training course, food business owners, managers and supervisory staff will learn how to comply with food safety legislation and develop advanced knowledge of food hygiene principles and best practice procedures. The course will explain senior responsibilities, how to implement a food safety management system and how to maintain high standards to ensure safe and hygienic food handling.\n",
      "Show more\n",
      "Course Content\n",
      "Assessment\n",
      "Suitable for\n",
      "Module 1: Introduction and Supervising Food Safety\n",
      "\n",
      "Module 2: Food Safety Legislation\n",
      "\n",
      "Module 3: Physical Contamination\n",
      "\n",
      "Module 4: Chemical Contamination and Non-Bacterial Food Poisoning\n",
      "\n",
      "Module 5: Allergenic Contamination\n",
      "\n",
      "Module 6: Microbial Contamination\n",
      "\n",
      "Module 7: Food Poisoning and Food-Borne Diseases\n",
      "\n",
      "Module 8: Food Deliveries, Storage and Preservation\n",
      "\n",
      "Module 9: Temperature Control\n",
      "\n",
      "Module 10: Premises and Equipment Design\n",
      "\n",
      "Module 11: Waste Management and Cleaning\n",
      "\n",
      "Module 12: Pest Control\n",
      "\n",
      "Module 13: Implementing a Food Safety Management System\n",
      "\n",
      "Module 14: Personal Hygiene\n",
      "\n",
      "Module 15: Training Staff\n",
      "\n",
      "Download Course Overview (PDF)\n",
      "\n",
      "Source 6:\n",
      "Written by experts\n",
      "In partnership with\n",
      "Paul Turner\n",
      "Senior Environmental Health Officer\n",
      "Show bio\n",
      "Frequently asked questions\n",
      "Do I need to take Level 2 training before taking Level 3?\n",
      "\n",
      "Do I have to take the course all at once?\n",
      "\n",
      "Does the course include a certificate?\n",
      "\n",
      "See all FAQs\n",
      "Course reviews\n",
      "See all reviews\n",
      "Recommended courses\n",
      "Level 2 Food Hygiene and Safety for Catering\n",
      "£20 +VAT \n",
      "View course\n",
      "Manual Handling Awareness\n",
      "£26 +VAT \n",
      "View course\n",
      "See full course catalogue\n",
      "Get in touch or view our help page\n",
      "About\n",
      "About us\n",
      "Work for us\n",
      "Force for Good\n",
      "Resources\n",
      "Reviews\n",
      "Support\n",
      "Help and FAQs\n",
      "Contact us\n",
      "Verify certificate\n",
      "Cancellations and refunds\n",
      "Policies and terms of use\n",
      "Connect with us\n",
      "Twitter\n",
      "Facebook\n",
      "Linkedin\n",
      "Instagram\n",
      "TikTok\n",
      "© 2024 High Speed Training Limited. Riverside Business Park, Dansk Way, Ilkley, West Yorkshire, LS29 8JZ.\n",
      "VAT Reg. No: 923 6593 07  |  Registered in England and Wales: 6428976\n",
      "\n",
      "This site is protected by reCAPTCHA and the Google Privacy Policy and Terms of Service apply.\n",
      "\n"
     ]
    }
   ],
   "source": [
    "for i in range(len(response.source_nodes)):\n",
    "    print(response.source_nodes[i].node.get_text())"
   ]
  },
  {
   "cell_type": "code",
   "execution_count": 79,
   "id": "64ec28ea-32c9-4f10-93a6-a54561841c33",
   "metadata": {},
   "outputs": [],
   "source": [
    "chat_engine = index.as_chat_engine()"
   ]
  },
  {
   "cell_type": "code",
   "execution_count": 89,
   "id": "d70978ad-c43c-486c-a012-ee43af1b064f",
   "metadata": {},
   "outputs": [
    {
     "name": "stdout",
     "output_type": "stream",
     "text": [
      "===== Entering Chat REPL =====\n",
      "Type \"exit\" to exit.\n",
      "\n"
     ]
    },
    {
     "name": "stdout",
     "output_type": "stream",
     "text": [
      "Human:  What is allergen awareness?\n"
     ]
    },
    {
     "name": "stdout",
     "output_type": "stream",
     "text": [
      "Assistant: Allergen awareness involves understanding the potential severe outcomes of hypersensitivities and the importance of addressing allergies properly. It is crucial for businesses to be transparent, inclusive, and proactive in managing allergens to ensure the safety of customers. This includes effective communication, staff training on food allergens, and providing accurate allergen information to customers to create a safe dining experience for individuals with food hypersensitivities.\n",
      "\n"
     ]
    },
    {
     "name": "stdout",
     "output_type": "stream",
     "text": [
      "Human:  please explain in more detail\n"
     ]
    },
    {
     "name": "stdout",
     "output_type": "stream",
     "text": [
      "Assistant: Allergen awareness is the understanding and acknowledgment of the potential severe reactions that can occur in individuals with allergies. It involves recognizing the importance of addressing allergies properly to ensure the safety and well-being of individuals with food hypersensitivities. \n",
      "\n",
      "Businesses play a significant role in allergen awareness by being transparent, inclusive, and proactive in managing allergens. This includes:\n",
      "\n",
      "1. Effective Communication: Businesses need to communicate clearly with customers about the presence of allergens in their products or dishes. This can be done through menu labeling, signage, and verbal communication with customers.\n",
      "\n",
      "2. Staff Training: It is essential for businesses to provide comprehensive training to their staff on food allergens. Staff members should be knowledgeable about common allergens, cross-contamination risks, and how to handle allergen-related inquiries from customers.\n",
      "\n",
      "3. Providing Accurate Allergen Information: Businesses should ensure that accurate allergen information is available to customers. This includes having detailed ingredient lists, allergen guides, and allergen-specific menus to help individuals with allergies make informed choices.\n",
      "\n",
      "By prioritizing allergen awareness, businesses can create a safe dining experience for individuals with food hypersensitivities and demonstrate their commitment to customer safety and inclusivity.\n",
      "\n"
     ]
    },
    {
     "ename": "KeyboardInterrupt",
     "evalue": "Interrupted by user",
     "output_type": "error",
     "traceback": [
      "\u001b[0;31m---------------------------------------------------------------------------\u001b[0m",
      "\u001b[0;31mKeyboardInterrupt\u001b[0m                         Traceback (most recent call last)",
      "Cell \u001b[0;32mIn[89], line 1\u001b[0m\n\u001b[0;32m----> 1\u001b[0m \u001b[43mchat_engine\u001b[49m\u001b[38;5;241;43m.\u001b[39;49m\u001b[43mchat_repl\u001b[49m\u001b[43m(\u001b[49m\u001b[43m)\u001b[49m\n",
      "File \u001b[0;32m~/Dev/RAG_test/.venv/lib/python3.12/site-packages/llama_index/core/chat_engine/types.py:341\u001b[0m, in \u001b[0;36mBaseChatEngine.chat_repl\u001b[0;34m(self)\u001b[0m\n\u001b[1;32m    339\u001b[0m response \u001b[38;5;241m=\u001b[39m \u001b[38;5;28mself\u001b[39m\u001b[38;5;241m.\u001b[39mchat(message)\n\u001b[1;32m    340\u001b[0m \u001b[38;5;28mprint\u001b[39m(\u001b[38;5;124mf\u001b[39m\u001b[38;5;124m\"\u001b[39m\u001b[38;5;124mAssistant: \u001b[39m\u001b[38;5;132;01m{\u001b[39;00mresponse\u001b[38;5;132;01m}\u001b[39;00m\u001b[38;5;130;01m\\n\u001b[39;00m\u001b[38;5;124m\"\u001b[39m)\n\u001b[0;32m--> 341\u001b[0m message \u001b[38;5;241m=\u001b[39m \u001b[38;5;28;43minput\u001b[39;49m\u001b[43m(\u001b[49m\u001b[38;5;124;43m\"\u001b[39;49m\u001b[38;5;124;43mHuman: \u001b[39;49m\u001b[38;5;124;43m\"\u001b[39;49m\u001b[43m)\u001b[49m\n",
      "File \u001b[0;32m~/Dev/RAG_test/.venv/lib/python3.12/site-packages/ipykernel/kernelbase.py:1282\u001b[0m, in \u001b[0;36mKernel.raw_input\u001b[0;34m(self, prompt)\u001b[0m\n\u001b[1;32m   1280\u001b[0m     msg \u001b[38;5;241m=\u001b[39m \u001b[38;5;124m\"\u001b[39m\u001b[38;5;124mraw_input was called, but this frontend does not support input requests.\u001b[39m\u001b[38;5;124m\"\u001b[39m\n\u001b[1;32m   1281\u001b[0m     \u001b[38;5;28;01mraise\u001b[39;00m StdinNotImplementedError(msg)\n\u001b[0;32m-> 1282\u001b[0m \u001b[38;5;28;01mreturn\u001b[39;00m \u001b[38;5;28;43mself\u001b[39;49m\u001b[38;5;241;43m.\u001b[39;49m\u001b[43m_input_request\u001b[49m\u001b[43m(\u001b[49m\n\u001b[1;32m   1283\u001b[0m \u001b[43m    \u001b[49m\u001b[38;5;28;43mstr\u001b[39;49m\u001b[43m(\u001b[49m\u001b[43mprompt\u001b[49m\u001b[43m)\u001b[49m\u001b[43m,\u001b[49m\n\u001b[1;32m   1284\u001b[0m \u001b[43m    \u001b[49m\u001b[38;5;28;43mself\u001b[39;49m\u001b[38;5;241;43m.\u001b[39;49m\u001b[43m_parent_ident\u001b[49m\u001b[43m[\u001b[49m\u001b[38;5;124;43m\"\u001b[39;49m\u001b[38;5;124;43mshell\u001b[39;49m\u001b[38;5;124;43m\"\u001b[39;49m\u001b[43m]\u001b[49m\u001b[43m,\u001b[49m\n\u001b[1;32m   1285\u001b[0m \u001b[43m    \u001b[49m\u001b[38;5;28;43mself\u001b[39;49m\u001b[38;5;241;43m.\u001b[39;49m\u001b[43mget_parent\u001b[49m\u001b[43m(\u001b[49m\u001b[38;5;124;43m\"\u001b[39;49m\u001b[38;5;124;43mshell\u001b[39;49m\u001b[38;5;124;43m\"\u001b[39;49m\u001b[43m)\u001b[49m\u001b[43m,\u001b[49m\n\u001b[1;32m   1286\u001b[0m \u001b[43m    \u001b[49m\u001b[43mpassword\u001b[49m\u001b[38;5;241;43m=\u001b[39;49m\u001b[38;5;28;43;01mFalse\u001b[39;49;00m\u001b[43m,\u001b[49m\n\u001b[1;32m   1287\u001b[0m \u001b[43m\u001b[49m\u001b[43m)\u001b[49m\n",
      "File \u001b[0;32m~/Dev/RAG_test/.venv/lib/python3.12/site-packages/ipykernel/kernelbase.py:1325\u001b[0m, in \u001b[0;36mKernel._input_request\u001b[0;34m(self, prompt, ident, parent, password)\u001b[0m\n\u001b[1;32m   1322\u001b[0m \u001b[38;5;28;01mexcept\u001b[39;00m \u001b[38;5;167;01mKeyboardInterrupt\u001b[39;00m:\n\u001b[1;32m   1323\u001b[0m     \u001b[38;5;66;03m# re-raise KeyboardInterrupt, to truncate traceback\u001b[39;00m\n\u001b[1;32m   1324\u001b[0m     msg \u001b[38;5;241m=\u001b[39m \u001b[38;5;124m\"\u001b[39m\u001b[38;5;124mInterrupted by user\u001b[39m\u001b[38;5;124m\"\u001b[39m\n\u001b[0;32m-> 1325\u001b[0m     \u001b[38;5;28;01mraise\u001b[39;00m \u001b[38;5;167;01mKeyboardInterrupt\u001b[39;00m(msg) \u001b[38;5;28;01mfrom\u001b[39;00m \u001b[38;5;28;01mNone\u001b[39;00m\n\u001b[1;32m   1326\u001b[0m \u001b[38;5;28;01mexcept\u001b[39;00m \u001b[38;5;167;01mException\u001b[39;00m:\n\u001b[1;32m   1327\u001b[0m     \u001b[38;5;28mself\u001b[39m\u001b[38;5;241m.\u001b[39mlog\u001b[38;5;241m.\u001b[39mwarning(\u001b[38;5;124m\"\u001b[39m\u001b[38;5;124mInvalid Message:\u001b[39m\u001b[38;5;124m\"\u001b[39m, exc_info\u001b[38;5;241m=\u001b[39m\u001b[38;5;28;01mTrue\u001b[39;00m)\n",
      "\u001b[0;31mKeyboardInterrupt\u001b[0m: Interrupted by user"
     ]
    }
   ],
   "source": [
    "chat_engine.chat_repl()"
   ]
  },
  {
   "cell_type": "code",
   "execution_count": null,
   "id": "73f254b1-d8c4-407d-990c-f60d3c047560",
   "metadata": {},
   "outputs": [],
   "source": []
  }
 ],
 "metadata": {
  "kernelspec": {
   "display_name": "Python 3 (ipykernel)",
   "language": "python",
   "name": "python3"
  },
  "language_info": {
   "codemirror_mode": {
    "name": "ipython",
    "version": 3
   },
   "file_extension": ".py",
   "mimetype": "text/x-python",
   "name": "python",
   "nbconvert_exporter": "python",
   "pygments_lexer": "ipython3",
   "version": "3.12.4"
  }
 },
 "nbformat": 4,
 "nbformat_minor": 5
}
