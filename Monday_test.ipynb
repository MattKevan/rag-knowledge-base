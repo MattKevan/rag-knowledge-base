{
 "cells": [
  {
   "cell_type": "markdown",
   "id": "a03d0d48-8f3f-407f-a078-71118a1ffce4",
   "metadata": {},
   "source": [
    "## Setup"
   ]
  },
  {
   "cell_type": "code",
   "execution_count": null,
   "id": "56f85017-1bef-4730-ace3-9a584480c917",
   "metadata": {},
   "outputs": [],
   "source": [
    "!pip install llama-index\n",
    "!pip install python-dotenv"
   ]
  },
  {
   "cell_type": "code",
   "execution_count": 22,
   "id": "db5df5e6-b42b-4371-971d-8b182e9fb8e8",
   "metadata": {},
   "outputs": [],
   "source": [
    "load_dotenv()\n",
    "monday_api_token = os.getenv('MONDAY_API_KEY')"
   ]
  },
  {
   "cell_type": "code",
   "execution_count": 5,
   "id": "722a2c5c-9250-4bd5-a17e-e830a61c1416",
   "metadata": {},
   "outputs": [],
   "source": [
    "from llama_index.core import SimpleDirectoryReader\n",
    "from llama_index.core import VectorStoreIndex"
   ]
  },
  {
   "cell_type": "markdown",
   "id": "d4e82f57-a34b-48fd-9c01-3c55b7844efb",
   "metadata": {},
   "source": [
    "## Basic"
   ]
  },
  {
   "cell_type": "code",
   "execution_count": 19,
   "id": "2da0a5d5-9675-4c8d-a31c-9064230cb5f8",
   "metadata": {},
   "outputs": [],
   "source": [
    "documents = SimpleDirectoryReader(\"./data\").load_data()"
   ]
  },
  {
   "cell_type": "code",
   "execution_count": 24,
   "id": "d0e167da-146e-4fa4-a124-8f1c994f6c72",
   "metadata": {},
   "outputs": [],
   "source": [
    "index = VectorStoreIndex.from_documents(documents)\n",
    "query_engine = index.as_query_engine()"
   ]
  },
  {
   "cell_type": "code",
   "execution_count": 27,
   "id": "56b669f6-dffd-4f06-bc16-6fa9b3a5b04a",
   "metadata": {},
   "outputs": [
    {
     "name": "stdout",
     "output_type": "stream",
     "text": [
      "I'm unable to provide a relevant answer to that query based on the context information provided.\n"
     ]
    }
   ],
   "source": [
    "response = query_engine.query(\"Why is a mouse when it spins?\")\n",
    "print(response)"
   ]
  },
  {
   "cell_type": "markdown",
   "id": "22749f41-b8b4-4dc8-bf69-a4c9d59efb2e",
   "metadata": {},
   "source": [
    "## Chroma"
   ]
  },
  {
   "cell_type": "code",
   "execution_count": null,
   "id": "3370cca4-72ac-4f30-b1ab-21fccdda3978",
   "metadata": {},
   "outputs": [],
   "source": [
    "!pip install chromadb\n",
    "!pip install llama-index-vector-stores-chroma"
   ]
  },
  {
   "cell_type": "code",
   "execution_count": 31,
   "id": "07429ae6-4bb6-4633-86bd-41aab82c5e97",
   "metadata": {},
   "outputs": [],
   "source": [
    "import chromadb\n",
    "from llama_index.core import VectorStoreIndex, SimpleDirectoryReader\n",
    "from llama_index.vector_stores.chroma import ChromaVectorStore\n",
    "from llama_index.core import StorageContext"
   ]
  },
  {
   "cell_type": "code",
   "execution_count": 32,
   "id": "b5e6312f-3567-40fb-8551-45dd35e72a6a",
   "metadata": {},
   "outputs": [],
   "source": [
    "db = chromadb.PersistentClient(path=\"./chroma_db\")"
   ]
  },
  {
   "cell_type": "code",
   "execution_count": 33,
   "id": "e1a6a7a7-9bc0-445c-a7e0-72366e0b6e86",
   "metadata": {},
   "outputs": [],
   "source": [
    "chroma_collection = db.get_or_create_collection(\"ragtest\")"
   ]
  },
  {
   "cell_type": "code",
   "execution_count": 34,
   "id": "51ff2735-ceda-45af-b034-12e89c1cec0d",
   "metadata": {},
   "outputs": [],
   "source": [
    "vector_store = ChromaVectorStore(chroma_collection=chroma_collection)\n",
    "storage_context = StorageContext.from_defaults(vector_store=vector_store)\n",
    "\n",
    "# create your index\n",
    "index = VectorStoreIndex.from_documents(\n",
    "    documents, storage_context=storage_context\n",
    ")"
   ]
  },
  {
   "cell_type": "code",
   "execution_count": 36,
   "id": "3d345d2e-95fa-4d37-b8f1-6331d3ba43e5",
   "metadata": {},
   "outputs": [
    {
     "name": "stdout",
     "output_type": "stream",
     "text": [
      "Hygiene involves maintaining cleanliness and taking measures to prevent the spread of dirt, viruses, bacteria, and other contaminants. It includes practices such as proper handwashing, avoiding touching food directly with bare hands, using appropriate tools like tongs or gloves, and ensuring personal cleanliness to prevent cross-contamination and maintain food safety standards.\n"
     ]
    }
   ],
   "source": [
    "query_engine = index.as_query_engine()\n",
    "response = query_engine.query(\"what is hygiene?\")\n",
    "print(response)"
   ]
  },
  {
   "cell_type": "markdown",
   "id": "fabace55-3cc4-4573-8c43-bd06bc57bed5",
   "metadata": {},
   "source": [
    "## Monday API"
   ]
  },
  {
   "cell_type": "code",
   "execution_count": null,
   "id": "92eedadb-abd7-429a-a8ab-df694f67f643",
   "metadata": {},
   "outputs": [],
   "source": [
    "#!pip install llama-index-readers-mondaydotcom"
   ]
  },
  {
   "cell_type": "code",
   "execution_count": 93,
   "id": "a2cc90f6-bc40-4eeb-9b65-422f585d45cf",
   "metadata": {},
   "outputs": [],
   "source": [
    "# Custom Monday API reader\n",
    "\n",
    "from typing import Dict, List\n",
    "import requests\n",
    "import json\n",
    "from llama_index.core.readers.base import BaseReader\n",
    "from llama_index.core.schema import Document\n",
    "\n",
    "class MondayReader(BaseReader):\n",
    "    \"\"\"monday.com reader. Reads board's data by a GraphQL query.\"\"\"\n",
    "    def __init__(self, api_key: str) -> None:\n",
    "        \"\"\"Initialize monday.com reader.\"\"\"\n",
    "        self.api_key = api_key\n",
    "        self.api_url = \"https://api.monday.com/v2\"\n",
    "\n",
    "    def _parse_item_values(self, cv) -> Dict[str, str]:\n",
    "        return {\"title\": cv.get(\"column\", {}).get(\"title\", \"\"), \"value\": cv.get(\"text\", \"\")}\n",
    "\n",
    "    def _parse_assets(self, assets) -> List[Dict[str, str]]:\n",
    "        return [{\"name\": asset.get(\"name\", \"\"), \"url\": asset.get(\"url\", \"\")} for asset in assets]\n",
    "\n",
    "    def _parse_updates(self, updates) -> List[Dict[str, str]]:\n",
    "        return [{\"body\": update.get(\"body\", \"\"), \"created_at\": update.get(\"created_at\", \"\")} for update in updates]\n",
    "\n",
    "    def _parse_data(self, item) -> Dict[str, any]:\n",
    "        return {\n",
    "            \"id\": item[\"id\"],\n",
    "            \"name\": item[\"name\"],\n",
    "            \"values\": [self._parse_item_values(cv) for cv in item[\"column_values\"]],\n",
    "            \"assets\": self._parse_assets(item.get(\"assets\", [])),\n",
    "            \"updates\": self._parse_updates(item.get(\"updates\", [])),\n",
    "            \"subitems\": [self._parse_data(subitem) for subitem in item.get(\"subitems\", [])]\n",
    "        }\n",
    "\n",
    "    def _perform_request(self, board_id: int, cursor: str = None) -> Dict[str, any]:\n",
    "        headers = {\"Authorization\": self.api_key}\n",
    "        query = \"\"\"\n",
    "            query($boardId: ID!, $cursor: String) {\n",
    "                boards(ids: [$boardId]) {\n",
    "                    name,\n",
    "                    items_page(limit: 100, cursor: $cursor) {\n",
    "                        cursor\n",
    "                        items {\n",
    "                            id,\n",
    "                            name,\n",
    "                            column_values {\n",
    "                                column { title }\n",
    "                                text\n",
    "                            }\n",
    "                            assets {\n",
    "                                name\n",
    "                                url\n",
    "                            }\n",
    "                            updates {\n",
    "                                body\n",
    "                                created_at\n",
    "                            }\n",
    "                            subitems {\n",
    "                                id,\n",
    "                                name,\n",
    "                                column_values {\n",
    "                                    column { title }\n",
    "                                    text\n",
    "                                }\n",
    "                                assets {\n",
    "                                    name\n",
    "                                    url\n",
    "                                }\n",
    "                                updates {\n",
    "                                    body\n",
    "                                    created_at\n",
    "                                }\n",
    "                            }\n",
    "                        }\n",
    "                    }\n",
    "                }\n",
    "            }\n",
    "        \"\"\"\n",
    "        variables = {\"boardId\": board_id, \"cursor\": cursor}\n",
    "        data = {\"query\": query, \"variables\": variables}\n",
    "        response = requests.post(url=self.api_url, json=data, headers=headers)\n",
    "        return response.json()\n",
    "\n",
    "    def _subitem_to_dict(self, subitem):\n",
    "        return {\n",
    "            \"id\": subitem[\"id\"],\n",
    "            \"name\": subitem[\"name\"],\n",
    "            \"values\": [{\"title\": v[\"title\"], \"value\": v[\"value\"]} for v in subitem[\"values\"]],\n",
    "            \"assets\": [{\"name\": a[\"name\"], \"url\": a[\"url\"]} for a in subitem[\"assets\"]],\n",
    "            \"updates\": [{\"body\": u[\"body\"], \"created_at\": u[\"created_at\"]} for u in subitem[\"updates\"]]\n",
    "        }\n",
    "\n",
    "    def load_data(self, board_id: int) -> List[Document]:\n",
    "        \"\"\"Load board data by board_id.\"\"\"\n",
    "        all_items = []\n",
    "        cursor = None\n",
    "        while True:\n",
    "            json_response = self._perform_request(board_id, cursor)\n",
    "            \n",
    "            if \"errors\" in json_response:\n",
    "                raise Exception(f\"API Error: {json_response['errors']}\")\n",
    "            \n",
    "            if \"data\" not in json_response or \"boards\" not in json_response[\"data\"]:\n",
    "                raise Exception(\"Unexpected API response structure\")\n",
    "            board_data = json_response[\"data\"][\"boards\"][0]\n",
    "            items_page = board_data[\"items_page\"]\n",
    "            \n",
    "            all_items.extend(items_page[\"items\"])\n",
    "            \n",
    "            if not items_page[\"cursor\"]:\n",
    "                break\n",
    "            \n",
    "            cursor = items_page[\"cursor\"]\n",
    "        parsed_items = [self._parse_data(item) for item in all_items]\n",
    "        \n",
    "        result = []\n",
    "        for item in parsed_items:\n",
    "            text = f\"name: {item['name']}\"\n",
    "            for item_value in item[\"values\"]:\n",
    "                if item_value[\"value\"]:\n",
    "                    text += f\", {item_value['title']}: {item_value['value']}\"\n",
    "            \n",
    "            if item[\"assets\"]:\n",
    "                text += \"\\nAssets:\"\n",
    "                for asset in item[\"assets\"]:\n",
    "                    text += f\"\\n- {asset['name']}: {asset['url']}\"\n",
    "            \n",
    "            if item[\"updates\"]:\n",
    "                text += \"\\nUpdates:\"\n",
    "                for update in item[\"updates\"]:\n",
    "                    text += f\"\\n- {update['created_at']}: {update['body']}\"\n",
    "            \n",
    "            if item[\"subitems\"]:\n",
    "                text += \"\\nSubitems:\"\n",
    "                for subitem in item[\"subitems\"]:\n",
    "                    text += f\"\\n- {subitem['name']}\"\n",
    "                    for subitem_value in subitem[\"values\"]:\n",
    "                        if subitem_value[\"value\"]:\n",
    "                            text += f\", {subitem_value['title']}: {subitem_value['value']}\"\n",
    "\n",
    "            result.append(\n",
    "                Document(\n",
    "                    text=text,\n",
    "                    extra_info={\n",
    "                        \"board_id\": board_id,\n",
    "                        \"item_id\": item[\"id\"],\n",
    "                        \"subitems_count\": len(item[\"subitems\"]),\n",
    "                        \"subitems_json\": json.dumps([self._subitem_to_dict(subitem) for subitem in item[\"subitems\"]])\n",
    "                    }\n",
    "                )\n",
    "            )\n",
    "        \n",
    "        return result"
   ]
  },
  {
   "cell_type": "code",
   "execution_count": null,
   "id": "5af87aa8-9403-42b8-8407-33eed4f74277",
   "metadata": {},
   "outputs": [],
   "source": [
    "# Monday API connection\n",
    "board_id = 1564566045\n",
    "reader = MondayReader(monday_api_token)\n",
    "raw_response = reader._perform_request(board_id)\n",
    "documents = reader.load_data(board_id)"
   ]
  },
  {
   "cell_type": "code",
   "execution_count": 108,
   "id": "524f739f-f4e9-438a-9b1c-81017d409765",
   "metadata": {},
   "outputs": [],
   "source": [
    "# Database setup\n",
    "db = chromadb.PersistentClient(path=\"./chroma_db\")\n",
    "chroma_collection = db.get_or_create_collection(\"monday\")"
   ]
  },
  {
   "cell_type": "code",
   "execution_count": 109,
   "id": "591045de-43f5-4824-8c98-f9821c0b3f28",
   "metadata": {},
   "outputs": [],
   "source": [
    "vector_store = ChromaVectorStore(chroma_collection=chroma_collection)\n",
    "storage_context = StorageContext.from_defaults(vector_store=vector_store)\n",
    "\n",
    "# create your index\n",
    "index = VectorStoreIndex.from_documents(\n",
    "    documents, storage_context=storage_context\n",
    ")\n",
    "query_engine = index.as_query_engine()"
   ]
  },
  {
   "cell_type": "code",
   "execution_count": 122,
   "id": "2e4cab4f-026d-48fb-a18c-ebbf0c63efe2",
   "metadata": {},
   "outputs": [
    {
     "name": "stdout",
     "output_type": "stream",
     "text": [
      "Symptoms of food poisoning typically include nausea, vomiting, diarrhea, abdominal pain, fever, and sometimes headache.\n"
     ]
    }
   ],
   "source": [
    "response = query_engine.query(\"What are the key symptoms of food poisining?\")\n",
    "print(response)"
   ]
  },
  {
   "cell_type": "code",
   "execution_count": null,
   "id": "c09d1bdc-8998-410a-9468-16421d1d170a",
   "metadata": {},
   "outputs": [],
   "source": []
  },
  {
   "cell_type": "code",
   "execution_count": null,
   "id": "54abf150-f809-43da-aa73-73d48bef99b4",
   "metadata": {},
   "outputs": [],
   "source": []
  },
  {
   "cell_type": "code",
   "execution_count": null,
   "id": "e487c83d-9dc7-4d97-81f3-314f85780292",
   "metadata": {},
   "outputs": [],
   "source": []
  },
  {
   "cell_type": "code",
   "execution_count": null,
   "id": "73a333c4-0f43-4f2d-be90-49158367e58f",
   "metadata": {},
   "outputs": [],
   "source": []
  }
 ],
 "metadata": {
  "kernelspec": {
   "display_name": "Python 3 (ipykernel)",
   "language": "python",
   "name": "python3"
  },
  "language_info": {
   "codemirror_mode": {
    "name": "ipython",
    "version": 3
   },
   "file_extension": ".py",
   "mimetype": "text/x-python",
   "name": "python",
   "nbconvert_exporter": "python",
   "pygments_lexer": "ipython3",
   "version": "3.12.4"
  }
 },
 "nbformat": 4,
 "nbformat_minor": 5
}
